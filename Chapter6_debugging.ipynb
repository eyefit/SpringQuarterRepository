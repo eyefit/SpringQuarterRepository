{
 "cells": [
  {
   "cell_type": "markdown",
   "metadata": {},
   "source": [
    "# We will learn about debugging in jupyter notebook and python"
   ]
  },
  {
   "cell_type": "code",
   "execution_count": null,
   "metadata": {},
   "outputs": [],
   "source": [
    "%matplotlib inline\n",
    "import numpy as np\n",
    "import pandas as pd"
   ]
  },
  {
   "cell_type": "code",
   "execution_count": null,
   "metadata": {},
   "outputs": [],
   "source": [
    "\n",
    "def plot_data_frame(df):\n",
    "    for col in df.columns:\n",
    "        df[x].plot()\n",
    "    "
   ]
  },
  {
   "cell_type": "code",
   "execution_count": null,
   "metadata": {},
   "outputs": [],
   "source": [
    "df = pd.DataFrame({'x' : [1, 2, 3, 4], 'y' : [4, 5, 6, 7]})"
   ]
  },
  {
   "cell_type": "code",
   "execution_count": null,
   "metadata": {},
   "outputs": [],
   "source": [
    "plot_data_frame(df)"
   ]
  },
  {
   "cell_type": "code",
   "execution_count": null,
   "metadata": {},
   "outputs": [],
   "source": [
    "%debug"
   ]
  },
  {
   "cell_type": "code",
   "execution_count": null,
   "metadata": {},
   "outputs": [],
   "source": [
    "from IPython.core.debugger import set_trace"
   ]
  },
  {
   "cell_type": "code",
   "execution_count": null,
   "metadata": {},
   "outputs": [],
   "source": [
    "def build_summary(x):\n",
    "    '''\n",
    "     build the minimun , maximum and number of unique item summary\n",
    "     args\n",
    "     x: 1-d numy array\n",
    "     returns [] of minimun , maximum and number of unique item summary    \n",
    "    '''\n",
    "    #set_trace()\n",
    "    #unique_item = # @TODO. Hint - recall from numpy how to find unique items.\n",
    "    item_num = len(unique_item)\n",
    "    return x.min(), x.min(), item_num\n",
    "    "
   ]
  },
  {
   "cell_type": "code",
   "execution_count": null,
   "metadata": {},
   "outputs": [],
   "source": [
    "a = np.array([1, 3 ,5 ,6 ,5 , 8, 1])"
   ]
  },
  {
   "cell_type": "markdown",
   "metadata": {},
   "source": [
    "## use assertion to test output of a function"
   ]
  },
  {
   "cell_type": "code",
   "execution_count": null,
   "metadata": {},
   "outputs": [],
   "source": [
    "min_val, max_val, unique_item_num = build_summary(a)"
   ]
  },
  {
   "cell_type": "markdown",
   "metadata": {},
   "source": [
    "<font color='red'>  assertion regarding max will fail  </font> and we need to debug original function build_smmary using\n",
    "**set_trace imported as from IPython.core.debugger import set_trace**\n",
    "\n",
    "*Also see how we got red color in the text. **We can use html tags in markdown !!!** *"
   ]
  },
  {
   "cell_type": "code",
   "execution_count": null,
   "metadata": {},
   "outputs": [],
   "source": [
    "\n",
    "assert min_val == 1, \"min val must be 1\"\n",
    "assert max_val == 8, \"max val must be 8\"\n",
    "assert unique_item_num == 5 , \"unique item must be 5\""
   ]
  },
  {
   "cell_type": "code",
   "execution_count": null,
   "metadata": {},
   "outputs": [],
   "source": [
    "print(build_summary(a))"
   ]
  },
  {
   "cell_type": "code",
   "execution_count": null,
   "metadata": {},
   "outputs": [],
   "source": []
  },
  {
   "cell_type": "markdown",
   "metadata": {},
   "source": [
    "Also see how doc string are used for generating function help when using **? in function signature**"
   ]
  },
  {
   "cell_type": "code",
   "execution_count": null,
   "metadata": {},
   "outputs": [],
   "source": [
    "build_summary?"
   ]
  },
  {
   "cell_type": "markdown",
   "metadata": {},
   "source": [
    "# A more complex debugging scenario\n",
    "# But first some pandas review\n",
    "\n",
    "**We will also learn how to apply function to pandas data frame or Series**"
   ]
  },
  {
   "cell_type": "code",
   "execution_count": null,
   "metadata": {},
   "outputs": [],
   "source": [
    "# number of  sunny days\n",
    "frame = pd.DataFrame(np.arange(10, 10+12).reshape(4,3), columns=['Jan','Feb' ,'March'],\n",
    "                      index=['Washington', 'Ohio', 'Texas', 'Colorado'])\n",
    "frame"
   ]
  },
  {
   "cell_type": "markdown",
   "metadata": {},
   "source": [
    "If we want to find maximum sunny days  during  Jan, Feb and March in any state then we\n",
    "\n",
    "use **apply** function on dataframe and it work on each columns(Series)"
   ]
  },
  {
   "cell_type": "code",
   "execution_count": null,
   "metadata": {},
   "outputs": [],
   "source": [
    "frame.apply(lambda x: x.max())"
   ]
  },
  {
   "cell_type": "markdown",
   "metadata": {},
   "source": [
    "What if we are insterested in **miminum and maximium** sunny days in each state not across the state"
   ]
  },
  {
   "cell_type": "code",
   "execution_count": null,
   "metadata": {},
   "outputs": [],
   "source": [
    "frame.apply()"
   ]
  },
  {
   "cell_type": "markdown",
   "metadata": {},
   "source": [
    "To do elementwise operation use\n",
    "- **applymap** for dataFrame\n",
    "- **map** for Series"
   ]
  },
  {
   "cell_type": "markdown",
   "metadata": {},
   "source": [
    "**Let say we want to add 1 to each element after realizing that our sensor reading started from 0 for first sunny day**"
   ]
  },
  {
   "cell_type": "code",
   "execution_count": null,
   "metadata": {},
   "outputs": [],
   "source": [
    "print(frame)\n",
    "print(frame.applymap(lambda x: x + 1))"
   ]
  },
  {
   "cell_type": "markdown",
   "metadata": {},
   "source": [
    "### Side: Do you remember map  build in function in python(apply a function to sequence) to avoid for loop"
   ]
  },
  {
   "cell_type": "code",
   "execution_count": null,
   "metadata": {},
   "outputs": [],
   "source": [
    "x_list = [1, 2, 4 ,6]\n",
    "list(map(lambda x:x**2 ,x_list))"
   ]
  },
  {
   "cell_type": "markdown",
   "metadata": {},
   "source": [
    "*Note: this list can be functions*"
   ]
  },
  {
   "cell_type": "code",
   "execution_count": null,
   "metadata": {},
   "outputs": [],
   "source": [
    "funcs = [lambda x:x**2, lambda x:x**3]\n",
    "for i in range(4):\n",
    "    print(list(map(lambda a:a(i), funcs)))"
   ]
  },
  {
   "cell_type": "markdown",
   "metadata": {},
   "source": [
    "Let say we want to do correction in a dataframe and apply a couple of function to each of the columns of new dataFrame and return list of modified datFrame\n",
    "\n",
    "Following excecise will help us in\n",
    "- how to put break point(**set_trace or type b function name or line numnber**)\n",
    "- how to check values\n",
    "- how execute current line in debug mode (**type n and enter**)\n",
    "- how to go insize function if current line is a function all(**type s**)\n",
    "- how to get out of a current function if we do not want to debug further in current function (**press return**)\n",
    "- how to go back to previous function call location(frame) (**type up**)\n",
    "- how to go next function call if we have come down in function call stack (**type down**)"
   ]
  },
  {
   "cell_type": "code",
   "execution_count": null,
   "metadata": {},
   "outputs": [],
   "source": [
    "def apply_functions(df, funcs):\n",
    "    results = []\n",
    "    for func in funcs:\n",
    "        results.append( df.apply(funcs))\n",
    "        #print(df.apply(func))\n",
    "    return results    \n",
    "    \n",
    "def apply_functions_with_correction(df, error_cor = 1, functions_to_apply = []):\n",
    "    #set_trace()\n",
    "    corrected_df = df.applymap(lambda x: x+error_cor)    \n",
    "    return apply_functions(corrected_df, functions_to_apply)"
   ]
  },
  {
   "cell_type": "code",
   "execution_count": null,
   "metadata": {},
   "outputs": [],
   "source": [
    "results = apply_functions_with_correction(frame, error_cor= 2, functions_to_apply= [lambda x:x.max(), lambda x:x.min()])"
   ]
  },
  {
   "cell_type": "code",
   "execution_count": null,
   "metadata": {},
   "outputs": [],
   "source": [
    "for r in results:\n",
    "    print(r)"
   ]
  },
  {
   "cell_type": "markdown",
   "metadata": {},
   "source": [
    "One more useful debug command (**until**) if handling a loop like list or dictionary comphrehension.\n",
    "Typing untill at last statement in loop will run all the loop and go to next line"
   ]
  },
  {
   "cell_type": "markdown",
   "metadata": {},
   "source": [
    "**Write a function to calculate the product of square of even number in a list?**\n",
    "\n",
    "Also use reduce from functools"
   ]
  },
  {
   "cell_type": "code",
   "execution_count": null,
   "metadata": {},
   "outputs": [],
   "source": [
    "def calculate_product_of_square(x):\n",
    "    pass\n",
    "    "
   ]
  },
  {
   "cell_type": "code",
   "execution_count": null,
   "metadata": {},
   "outputs": [],
   "source": [
    "assert calculate_product_of_square(list(range(1, 6))) == 64, \"product of square of even numbers in [1 ,2 ,3, 4, 5] must be 64\""
   ]
  },
  {
   "cell_type": "markdown",
   "metadata": {},
   "source": [
    "# How to organize the code\n",
    "\n",
    "- keep the notebook in main repository directory\n",
    "- add an empty file __init__.py in main repository directory and any new directory\n",
    "- import code using relative path and . notation\n",
    "\n",
    "As an example\n",
    "- create code directory inside current directory where the notebook is running from\n",
    "- add __init__.py in current and code\n",
    "- create a function  with following code in **utils.py** file inside code directory\n",
    "\n",
    "This function calcualate sum and product of 1d numpy array\n",
    " def calculate_sum_and_product(x):\n",
    "\n",
    "\n",
    "    return x.sum(), x.prod()\n",
    "\n",
    "- import the code in notebook as from code.utils import calculate_sum_and_product\n",
    "- Now we can use this function in the notebook\n",
    "\n"
   ]
  },
  {
   "cell_type": "markdown",
   "metadata": {},
   "source": [
    "### Let test above function  on following array"
   ]
  },
  {
   "cell_type": "code",
   "execution_count": null,
   "metadata": {},
   "outputs": [],
   "source": [
    "import numpy as np\n",
    "x = np.array([1 ,2 ,3, 4])\n"
   ]
  },
  {
   "cell_type": "markdown",
   "metadata": {},
   "source": [
    "if you change the code in utils.py, its will not be reflected in notebook.\n",
    "\n",
    "\n",
    "Put following at the start of notebook to allow\n",
    "auto reload\n",
    "\n",
    "%load_ext autoreload \n",
    "\n",
    "%autoreload 2 \n",
    "\n"
   ]
  }
 ],
 "metadata": {
  "kernelspec": {
   "display_name": "Python 3",
   "language": "python",
   "name": "python3"
  },
  "language_info": {
   "codemirror_mode": {
    "name": "ipython",
    "version": 3
   },
   "file_extension": ".py",
   "mimetype": "text/x-python",
   "name": "python",
   "nbconvert_exporter": "python",
   "pygments_lexer": "ipython3",
   "version": "3.6.4"
  }
 },
 "nbformat": 4,
 "nbformat_minor": 2
}
