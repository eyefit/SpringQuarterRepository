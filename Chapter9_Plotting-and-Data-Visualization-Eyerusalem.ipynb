{
 "cells": [
  {
   "cell_type": "markdown",
   "metadata": {},
   "source": [
    "CHAPTER 9"
   ]
  },
  {
   "cell_type": "markdown",
   "metadata": {},
   "source": [
    "Plotting-and-Data-Visualization"
   ]
  },
  {
   "cell_type": "code",
   "execution_count": 3,
   "metadata": {},
   "outputs": [],
   "source": [
    "# Making informative visualizations (sometimes called plots) is one of the most important tasks in data analysis\n",
    "    # Help identify outliers \n",
    "    # Needed data transformations, or \n",
    "    # As a way of generating ideas for models"
   ]
  },
  {
   "cell_type": "code",
   "execution_count": null,
   "metadata": {},
   "outputs": [],
   "source": [
    "# Python has many add-on libraries for making static or dynamic visualizations, but \n",
    "# In this chapter of the book it is focused on mainly focused on matplotlib and libraries that build on top of it"
   ]
  },
  {
   "cell_type": "code",
   "execution_count": 4,
   "metadata": {},
   "outputs": [],
   "source": [
    "# matplotlib is designed for creating (mostly two-dimensional) publication-quality plots."
   ]
  },
  {
   "cell_type": "code",
   "execution_count": 5,
   "metadata": {},
   "outputs": [],
   "source": [
    "# The project was started by John Hunter in 2002 to enable a MATLAB-like plotting interface in Python. \n",
    "# The matplotlib and IPython communities have collaborated to simplify interactive plotting from \n",
    "# The IPython shell (and now, Jupyter notebook). "
   ]
  },
  {
   "cell_type": "code",
   "execution_count": null,
   "metadata": {},
   "outputs": [],
   "source": [
    "# Matplotlib supports various GUI backends on all operating systems and \n",
    "# additionally can export visualizations to all of the common vector and raster graphics formats \n",
    "# (PDF, SVG, JPG, PNG, BMP, GIF, etc.).\n",
    "\n",
    "# With the exception of a few diagrams, nearly all of the graphics in this book were produced using matplotlib"
   ]
  },
  {
   "cell_type": "code",
   "execution_count": null,
   "metadata": {},
   "outputs": [],
   "source": [
    "9.1 A Brief matplotlib API Primer\n",
    "With matplotlib, we use the following import convention:\n",
    "In [11]: import matplotlib.pyplot as plt\n",
    "After running %matplotlib notebook in Jupyter (or simply %matplotlib in IPython), we can try creating a simple plot. If\n",
    "everything is set up right, a line plot like Figure 9-1 should appear:\n",
    "\n"
   ]
  }
 ],
 "metadata": {
  "kernelspec": {
   "display_name": "Python 3",
   "language": "python",
   "name": "python3"
  },
  "language_info": {
   "codemirror_mode": {
    "name": "ipython",
    "version": 3
   },
   "file_extension": ".py",
   "mimetype": "text/x-python",
   "name": "python",
   "nbconvert_exporter": "python",
   "pygments_lexer": "ipython3",
   "version": "3.6.4"
  }
 },
 "nbformat": 4,
 "nbformat_minor": 2
}
