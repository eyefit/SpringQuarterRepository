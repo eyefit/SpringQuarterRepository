{
 "cells": [
  {
   "cell_type": "markdown",
   "metadata": {},
   "source": [
    "Chapter 7 Data Clean, Transform, Merge and Reshape"
   ]
  },
  {
   "cell_type": "markdown",
   "metadata": {},
   "source": [
    "Combing and Merging Data Sets:  \n",
    "pandas.merge: connect rows in Dataframe based on one or more keys\n",
    "\n",
    "pandas.concat:\n",
    "\n",
    "combine_first"
   ]
  },
  {
   "cell_type": "code",
   "execution_count": 3,
   "metadata": {},
   "outputs": [],
   "source": [
    "import pandas as pd\n",
    "from pandas import DataFrame\n",
    "from pandas import Series\n",
    "import numpy as np"
   ]
  },
  {
   "cell_type": "code",
   "execution_count": null,
   "metadata": {},
   "outputs": [],
   "source": []
  },
  {
   "cell_type": "code",
   "execution_count": 8,
   "metadata": {},
   "outputs": [
    {
     "name": "stdout",
     "output_type": "stream",
     "text": [
      "   data1 key\n",
      "0      0   b\n",
      "1      1   b\n",
      "2      2   a\n",
      "3      3   c\n",
      "4      4   a\n",
      "5      5   a\n",
      "6      6   b\n",
      "   data2 key\n",
      "0      0   a\n",
      "1      1   b\n",
      "2      2   d\n",
      "   data1 key  data2\n",
      "0      0   b      1\n",
      "1      1   b      1\n",
      "2      6   b      1\n",
      "3      2   a      0\n",
      "4      4   a      0\n",
      "5      5   a      0\n",
      "   data1 key  data2\n",
      "0      0   b      1\n",
      "1      1   b      1\n",
      "2      6   b      1\n",
      "3      2   a      0\n",
      "4      4   a      0\n",
      "5      5   a      0\n"
     ]
    }
   ],
   "source": [
    "#Pandas.merge: Database-style DataFrame Merges\n",
    "df1 = DataFrame({'key': ['b', 'b', 'a', 'c', 'a', 'a', 'b'], \n",
    "                 'data1': range(7)})\n",
    "df2 = DataFrame({'key': ['a', 'b', 'd'],\n",
    "                 'data2': range(3)})\n",
    "\n",
    "print(df1)\n",
    "print(df2)\n",
    "\n",
    "# df1 and df2 is an example of one to many realtionship \n",
    "print(pd.merge(df1,df2)) # merge based on the column which has the same name\n",
    "print(pd.merge(df1,df2,on = 'key')) #specify merge based on key\n",
    "\n"
   ]
  },
  {
   "cell_type": "code",
   "execution_count": 14,
   "metadata": {},
   "outputs": [
    {
     "name": "stdout",
     "output_type": "stream",
     "text": [
      "   data1 lkey\n",
      "0      0    b\n",
      "1      1    b\n",
      "2      2    a\n",
      "3      3    c\n",
      "4      4    a\n",
      "5      5    a\n",
      "6      6    b\n",
      "   data2 rkey\n",
      "0      0    a\n",
      "1      1    b\n",
      "2      2    d\n",
      "   data1 key  data2\n",
      "0    0.0   b    1.0\n",
      "1    1.0   b    1.0\n",
      "2    6.0   b    1.0\n",
      "3    2.0   a    0.0\n",
      "4    4.0   a    0.0\n",
      "5    5.0   a    0.0\n",
      "6    3.0   c    NaN\n",
      "7    NaN   d    2.0\n",
      "   data1 key  data2\n",
      "0      0   b    1.0\n",
      "1      1   b    1.0\n",
      "2      2   a    0.0\n",
      "3      3   c    NaN\n",
      "4      4   a    0.0\n",
      "5      5   a    0.0\n",
      "6      6   b    1.0\n",
      "   data1 key  data2\n",
      "0    0.0   b      1\n",
      "1    1.0   b      1\n",
      "2    6.0   b      1\n",
      "3    2.0   a      0\n",
      "4    4.0   a      0\n",
      "5    5.0   a      0\n",
      "6    NaN   d      2\n"
     ]
    }
   ],
   "source": [
    "#if the key has different name? how to merge?\n",
    "df3 = DataFrame({'lkey': ['b', 'b', 'a', 'c', 'a', 'a', 'b'],\n",
    "                 'data1': range(7)})\n",
    "print(df3)\n",
    "df4 = DataFrame({'rkey': ['a', 'b', 'd'],\n",
    "                 'data2': range(3)})\n",
    "print(df4)\n",
    "\n",
    "#inner join \n",
    "pd.merge(df3,df4,left_on = 'lkey',right_on = 'rkey')\n",
    "\n",
    "#c and d is missing from the result, cause the merge dose an 'inner join'\n",
    "\n",
    "# How can we do left, right and outer join\n",
    "print(pd.merge(df1,df2,how = 'outer'))\n",
    "print(pd.merge(df1,df2,how = 'left'))\n",
    "print(pd.merge(df1,df2,how = 'right'))"
   ]
  },
  {
   "cell_type": "code",
   "execution_count": 18,
   "metadata": {},
   "outputs": [
    {
     "name": "stdout",
     "output_type": "stream",
     "text": [
      "   data1 key\n",
      "0      0   b\n",
      "1      1   b\n",
      "2      2   a\n",
      "3      3   c\n",
      "4      4   a\n",
      "5      5   b\n",
      "   data2 key\n",
      "0      0   a\n",
      "1      1   b\n",
      "2      2   a\n",
      "3      3   b\n",
      "4      4   d\n",
      "   data1 key  data2\n",
      "0      0   b      1\n",
      "1      0   b      3\n",
      "2      1   b      1\n",
      "3      1   b      3\n",
      "4      5   b      1\n",
      "5      5   b      3\n",
      "6      2   a      0\n",
      "7      2   a      2\n",
      "8      4   a      0\n",
      "9      4   a      2\n"
     ]
    }
   ],
   "source": [
    "#many to many join \n",
    "df1 = DataFrame({'key': ['b', 'b', 'a', 'c', 'a', 'b'], \n",
    "                 'data1': range(6)})\n",
    "df2 = DataFrame({'key': ['a', 'b', 'a', 'b', 'd'],\n",
    "                 'data2': range(5)})\n",
    "\n",
    "print(df1)\n",
    "print(df2)\n",
    "\n",
    "#inner join\n",
    "print(pd.merge(df1,df2,how = 'inner'))"
   ]
  },
  {
   "cell_type": "code",
   "execution_count": 21,
   "metadata": {},
   "outputs": [
    {
     "name": "stdout",
     "output_type": "stream",
     "text": [
      "  key1 key2  lval  rval\n",
      "0  foo  one   1.0   4.0\n",
      "1  foo  one   1.0   5.0\n",
      "2  foo  two   2.0   NaN\n",
      "3  bar  one   3.0   6.0\n",
      "4  bar  two   NaN   7.0\n"
     ]
    }
   ],
   "source": [
    "#merge with multiple keys\n",
    "left = DataFrame({'key1': ['foo', 'foo', 'bar'],\n",
    "                  'key2': ['one', 'two', 'one'],\n",
    "                  'lval': [1, 2, 3]})\n",
    "right = DataFrame({'key1': ['foo', 'foo', 'bar', 'bar'],\n",
    "                   'key2': ['one', 'one', 'one', 'two'],\n",
    "                   'rval': [4, 5, 6, 7]})\n",
    "print(pd.merge(left, right, on=['key1', 'key2'], how='outer'))"
   ]
  },
  {
   "cell_type": "code",
   "execution_count": 25,
   "metadata": {},
   "outputs": [
    {
     "name": "stdout",
     "output_type": "stream",
     "text": [
      "  key1 key2_x  lval key2_y  rval\n",
      "0  foo    one     1    one     4\n",
      "1  foo    one     1    one     5\n",
      "2  foo    two     2    one     4\n",
      "3  foo    two     2    one     5\n",
      "4  bar    one     3    one     6\n",
      "5  bar    one     3    two     7\n",
      "  key1 key2_left  lval key2_right  rval\n",
      "0  foo       one     1        one     4\n",
      "1  foo       one     1        one     5\n",
      "2  foo       two     2        one     4\n",
      "3  foo       two     2        one     5\n",
      "4  bar       one     3        one     6\n",
      "5  bar       one     3        two     7\n"
     ]
    }
   ],
   "source": [
    "# how to deal with overlapping column names\n",
    "print(pd.merge(left,right,on='key1'))\n",
    "\n",
    "print(pd.merge(left,right, on = 'key1', suffixes = ('_left','_right')))"
   ]
  },
  {
   "cell_type": "code",
   "execution_count": 34,
   "metadata": {},
   "outputs": [
    {
     "name": "stdout",
     "output_type": "stream",
     "text": [
      "  key  value\n",
      "0   a      0\n",
      "1   b      1\n",
      "2   a      2\n",
      "3   a      3\n",
      "4   b      4\n",
      "5   c      5\n",
      "   group_val\n",
      "a        3.5\n",
      "b        7.0\n",
      "   data    key1  key2\n",
      "0   0.0    Ohio  2000\n",
      "1   1.0    Ohio  2001\n",
      "2   2.0    Ohio  2002\n",
      "3   3.0  Nevada  2001\n",
      "4   4.0  Nevada  2002\n",
      "             event1  event2\n",
      "Nevada 2001       0       1\n",
      "       2000       2       3\n",
      "Ohio   2000       4       5\n",
      "       2000       6       7\n",
      "       2001       8       9\n",
      "       2002      10      11\n",
      "   data    key1  key2  event1  event2\n",
      "0   0.0    Ohio  2000       4       5\n",
      "0   0.0    Ohio  2000       6       7\n",
      "1   1.0    Ohio  2001       8       9\n",
      "2   2.0    Ohio  2002      10      11\n",
      "3   3.0  Nevada  2001       0       1\n",
      "   data    key1  key2  event1  event2\n",
      "0   0.0    Ohio  2000     4.0     5.0\n",
      "0   0.0    Ohio  2000     6.0     7.0\n",
      "1   1.0    Ohio  2001     8.0     9.0\n",
      "2   2.0    Ohio  2002    10.0    11.0\n",
      "3   3.0  Nevada  2001     0.0     1.0\n",
      "4   4.0  Nevada  2002     NaN     NaN\n",
      "4   NaN  Nevada  2000     2.0     3.0\n"
     ]
    }
   ],
   "source": [
    "# merge on index \n",
    "left1 = DataFrame({'key': ['a', 'b', 'a', 'a', 'b', 'c'],\n",
    "                   'value': range(6)})\n",
    "right1 = DataFrame({'group_val': [3.5, 7]}, index=['a', 'b'])\n",
    "\n",
    "print(left1)\n",
    "print(right1)\n",
    "\n",
    "pd.merge(left1,right1,left_on = 'key', right_index = True)\n",
    "\n",
    "# how about outer join\n",
    "pd.merge(left1, right1, left_on='key', right_index=True, how='outer')\n",
    "\n",
    "# hierarchically - index data \n",
    "lefth = DataFrame({'key1': ['Ohio', 'Ohio', 'Ohio', 'Nevada', 'Nevada'],\n",
    "                   'key2': [2000, 2001, 2002, 2001, 2002],\n",
    "                   'data': np.arange(5.)})\n",
    "righth = DataFrame(np.arange(12).reshape((6, 2)),\n",
    "                   index=[['Nevada', 'Nevada', 'Ohio', 'Ohio', 'Ohio', 'Ohio'],[2001, 2000, 2000, 2000, 2001, 2002]],\n",
    "                   columns=['event1', 'event2'])\n",
    "print(lefth)\n",
    "print(righth)\n",
    "\n",
    "print(pd.merge(lefth, righth, left_on=['key1', 'key2'], right_index=True))\n",
    "print(pd.merge(lefth, righth, left_on=['key1', 'key2'], right_index=True, how='outer'))"
   ]
  },
  {
   "cell_type": "code",
   "execution_count": 36,
   "metadata": {},
   "outputs": [
    {
     "name": "stdout",
     "output_type": "stream",
     "text": [
      "   Ohio  Nevada\n",
      "a   1.0     2.0\n",
      "c   3.0     4.0\n",
      "e   5.0     6.0\n",
      "   Missouri  Alabama\n",
      "b       7.0      8.0\n",
      "c       9.0     10.0\n",
      "d      11.0     12.0\n",
      "e      13.0     14.0\n"
     ]
    },
    {
     "data": {
      "text/html": [
       "<div>\n",
       "<style scoped>\n",
       "    .dataframe tbody tr th:only-of-type {\n",
       "        vertical-align: middle;\n",
       "    }\n",
       "\n",
       "    .dataframe tbody tr th {\n",
       "        vertical-align: top;\n",
       "    }\n",
       "\n",
       "    .dataframe thead th {\n",
       "        text-align: right;\n",
       "    }\n",
       "</style>\n",
       "<table border=\"1\" class=\"dataframe\">\n",
       "  <thead>\n",
       "    <tr style=\"text-align: right;\">\n",
       "      <th></th>\n",
       "      <th>Ohio</th>\n",
       "      <th>Nevada</th>\n",
       "      <th>Missouri</th>\n",
       "      <th>Alabama</th>\n",
       "    </tr>\n",
       "  </thead>\n",
       "  <tbody>\n",
       "    <tr>\n",
       "      <th>a</th>\n",
       "      <td>1.0</td>\n",
       "      <td>2.0</td>\n",
       "      <td>NaN</td>\n",
       "      <td>NaN</td>\n",
       "    </tr>\n",
       "    <tr>\n",
       "      <th>b</th>\n",
       "      <td>NaN</td>\n",
       "      <td>NaN</td>\n",
       "      <td>7.0</td>\n",
       "      <td>8.0</td>\n",
       "    </tr>\n",
       "    <tr>\n",
       "      <th>c</th>\n",
       "      <td>3.0</td>\n",
       "      <td>4.0</td>\n",
       "      <td>9.0</td>\n",
       "      <td>10.0</td>\n",
       "    </tr>\n",
       "    <tr>\n",
       "      <th>d</th>\n",
       "      <td>NaN</td>\n",
       "      <td>NaN</td>\n",
       "      <td>11.0</td>\n",
       "      <td>12.0</td>\n",
       "    </tr>\n",
       "    <tr>\n",
       "      <th>e</th>\n",
       "      <td>5.0</td>\n",
       "      <td>6.0</td>\n",
       "      <td>13.0</td>\n",
       "      <td>14.0</td>\n",
       "    </tr>\n",
       "  </tbody>\n",
       "</table>\n",
       "</div>"
      ],
      "text/plain": [
       "   Ohio  Nevada  Missouri  Alabama\n",
       "a   1.0     2.0       NaN      NaN\n",
       "b   NaN     NaN       7.0      8.0\n",
       "c   3.0     4.0       9.0     10.0\n",
       "d   NaN     NaN      11.0     12.0\n",
       "e   5.0     6.0      13.0     14.0"
      ]
     },
     "execution_count": 36,
     "metadata": {},
     "output_type": "execute_result"
    }
   ],
   "source": [
    "# using index of both side of dataset\n",
    "left2 = DataFrame([[1., 2.], [3., 4.], [5., 6.]], index=['a', 'c', 'e'],\n",
    "                  columns=['Ohio', 'Nevada'])\n",
    "right2 = DataFrame([[7., 8.], [9., 10.], [11., 12.], [13, 14]],\n",
    "                   index=['b', 'c', 'd', 'e'], columns=['Missouri', 'Alabama'])\n",
    "print(left2)\n",
    "print(right2)\n",
    "\n",
    "pd.merge(left2,right2,how = 'outer', left_index = True, right_index = True)\n",
    "    "
   ]
  },
  {
   "cell_type": "code",
   "execution_count": 40,
   "metadata": {},
   "outputs": [
    {
     "name": "stdout",
     "output_type": "stream",
     "text": [
      "   Ohio  Nevada\n",
      "a   1.0     2.0\n",
      "c   3.0     4.0\n",
      "e   5.0     6.0\n",
      "   Missouri  Alabama\n",
      "b       7.0      8.0\n",
      "c       9.0     10.0\n",
      "d      11.0     12.0\n",
      "e      13.0     14.0\n",
      "  key  value\n",
      "0   a      0\n",
      "1   b      1\n",
      "2   a      2\n",
      "3   a      3\n",
      "4   b      4\n",
      "5   c      5\n",
      "   group_val\n",
      "a        3.5\n",
      "b        7.0\n"
     ]
    },
    {
     "data": {
      "text/html": [
       "<div>\n",
       "<style scoped>\n",
       "    .dataframe tbody tr th:only-of-type {\n",
       "        vertical-align: middle;\n",
       "    }\n",
       "\n",
       "    .dataframe tbody tr th {\n",
       "        vertical-align: top;\n",
       "    }\n",
       "\n",
       "    .dataframe thead th {\n",
       "        text-align: right;\n",
       "    }\n",
       "</style>\n",
       "<table border=\"1\" class=\"dataframe\">\n",
       "  <thead>\n",
       "    <tr style=\"text-align: right;\">\n",
       "      <th></th>\n",
       "      <th>Ohio</th>\n",
       "      <th>Nevada</th>\n",
       "      <th>Missouri</th>\n",
       "      <th>Alabama</th>\n",
       "      <th>New York</th>\n",
       "      <th>Oregon</th>\n",
       "    </tr>\n",
       "  </thead>\n",
       "  <tbody>\n",
       "    <tr>\n",
       "      <th>a</th>\n",
       "      <td>1.0</td>\n",
       "      <td>2.0</td>\n",
       "      <td>NaN</td>\n",
       "      <td>NaN</td>\n",
       "      <td>7.0</td>\n",
       "      <td>8.0</td>\n",
       "    </tr>\n",
       "    <tr>\n",
       "      <th>c</th>\n",
       "      <td>3.0</td>\n",
       "      <td>4.0</td>\n",
       "      <td>9.0</td>\n",
       "      <td>10.0</td>\n",
       "      <td>9.0</td>\n",
       "      <td>10.0</td>\n",
       "    </tr>\n",
       "    <tr>\n",
       "      <th>e</th>\n",
       "      <td>5.0</td>\n",
       "      <td>6.0</td>\n",
       "      <td>13.0</td>\n",
       "      <td>14.0</td>\n",
       "      <td>11.0</td>\n",
       "      <td>12.0</td>\n",
       "    </tr>\n",
       "  </tbody>\n",
       "</table>\n",
       "</div>"
      ],
      "text/plain": [
       "   Ohio  Nevada  Missouri  Alabama  New York  Oregon\n",
       "a   1.0     2.0       NaN      NaN       7.0     8.0\n",
       "c   3.0     4.0       9.0     10.0       9.0    10.0\n",
       "e   5.0     6.0      13.0     14.0      11.0    12.0"
      ]
     },
     "execution_count": 40,
     "metadata": {},
     "output_type": "execute_result"
    }
   ],
   "source": [
    "# merge using join\n",
    "print(left2)\n",
    "print(right2)\n",
    "\n",
    "left2.join(right2, how = 'outer')\n",
    "\n",
    "\n",
    "print(left1)\n",
    "print(right1)\n",
    "left1.join(right1, on = 'key')\n",
    "\n",
    "#join 3 dataframe together\n",
    "another = DataFrame([[7., 8.], [9., 10.], [11., 12.], [16., 17.]],\n",
    "                    index=['a', 'c', 'e', 'f'], columns=['New York', 'Oregon'])\n",
    "left2.join([right2,another]) #default is inner join, want to use others, add how\n"
   ]
  },
  {
   "cell_type": "markdown",
   "metadata": {},
   "source": [
    "Reshaping and Pivoting: \n",
    "reshaping with hierarchical indexing/\n",
    "pivoting long to wide format"
   ]
  },
  {
   "cell_type": "markdown",
   "metadata": {},
   "source": [
    "Data Transformation:\n",
    "    Removing Duplicates/ \n",
    "    Transforming Data Using a Function or Mapping/\n",
    "    Replacing Values/\n",
    "    Renaming Axis Indexes/\n",
    "    Discretization and Binning/\n",
    "    Detecting and Filtering Outliers/\n",
    "    Permutation and Random Sampling/\n",
    "    Computing Indicator & Dummy Variable "
   ]
  },
  {
   "cell_type": "code",
   "execution_count": 53,
   "metadata": {},
   "outputs": [
    {
     "name": "stdout",
     "output_type": "stream",
     "text": [
      "    k1  k2\n",
      "0  one   1\n",
      "1  one   1\n",
      "2  one   2\n",
      "3  two   3\n",
      "4  two   3\n",
      "5  two   4\n",
      "6  two   4\n",
      "0    False\n",
      "1     True\n",
      "2    False\n",
      "3    False\n",
      "4     True\n",
      "5    False\n",
      "6     True\n",
      "dtype: bool\n",
      "    k1  k2\n",
      "0  one   1\n",
      "2  one   2\n",
      "3  two   3\n",
      "5  two   4\n",
      "    k1  k2  v1\n",
      "0  one   1   0\n",
      "3  two   3   3\n"
     ]
    },
    {
     "ename": "TypeError",
     "evalue": "drop_duplicates() got an unexpected keyword argument 'take_last'",
     "output_type": "error",
     "traceback": [
      "\u001b[1;31m---------------------------------------------------------------------------\u001b[0m",
      "\u001b[1;31mTypeError\u001b[0m                                 Traceback (most recent call last)",
      "\u001b[1;32m<ipython-input-53-4449248f4d46>\u001b[0m in \u001b[0;36m<module>\u001b[1;34m()\u001b[0m\n\u001b[0;32m     10\u001b[0m \u001b[1;31m# want to filter duplicated only based on k1\u001b[0m\u001b[1;33m\u001b[0m\u001b[1;33m\u001b[0m\u001b[0m\n\u001b[0;32m     11\u001b[0m \u001b[0mprint\u001b[0m\u001b[1;33m(\u001b[0m\u001b[0mdata\u001b[0m\u001b[1;33m.\u001b[0m\u001b[0mdrop_duplicates\u001b[0m\u001b[1;33m(\u001b[0m\u001b[1;33m[\u001b[0m\u001b[1;34m'k1'\u001b[0m\u001b[1;33m]\u001b[0m\u001b[1;33m)\u001b[0m\u001b[1;33m)\u001b[0m\u001b[1;33m\u001b[0m\u001b[0m\n\u001b[1;32m---> 12\u001b[1;33m \u001b[0mprint\u001b[0m\u001b[1;33m(\u001b[0m\u001b[0mdata\u001b[0m\u001b[1;33m.\u001b[0m\u001b[0mdrop_duplicates\u001b[0m\u001b[1;33m(\u001b[0m\u001b[1;33m[\u001b[0m\u001b[1;34m'k1'\u001b[0m\u001b[1;33m,\u001b[0m \u001b[1;34m'k2'\u001b[0m\u001b[1;33m]\u001b[0m\u001b[1;33m,\u001b[0m \u001b[0mtake_last\u001b[0m \u001b[1;33m=\u001b[0m \u001b[1;32mTrue\u001b[0m\u001b[1;33m)\u001b[0m\u001b[1;33m)\u001b[0m \u001b[1;31m#drop_duplicates() got an unexpected keyword argument 'take_last'\u001b[0m\u001b[1;33m\u001b[0m\u001b[0m\n\u001b[0m",
      "\u001b[1;31mTypeError\u001b[0m: drop_duplicates() got an unexpected keyword argument 'take_last'"
     ]
    }
   ],
   "source": [
    "# removing duplicates\n",
    "data = DataFrame({'k1': ['one'] * 3 + ['two'] * 4,\n",
    "                  'k2': [1, 1, 2, 3, 3, 4, 4]})\n",
    "print(data)\n",
    "print(data.duplicated())\n",
    "print(data.drop_duplicates()) # return where the duplicated array is true\n",
    "\n",
    "data['v1'] = range(7)\n",
    "\n",
    "# want to filter duplicated only based on k1\n",
    "print(data.drop_duplicates(['k1']))\n",
    "print(data.drop_duplicates(['k1', 'k2'], take_last = True)) #drop_duplicates() got an unexpected keyword argument 'take_last'\n"
   ]
  },
  {
   "cell_type": "code",
   "execution_count": 58,
   "metadata": {},
   "outputs": [
    {
     "name": "stdout",
     "output_type": "stream",
     "text": [
      "          food  ounces\n",
      "0        bacon     4.0\n",
      "1  pulled pork     3.0\n",
      "2        bacon    12.0\n",
      "3     Pastrami     6.0\n",
      "4  corned beef     7.5\n",
      "5        Bacon     8.0\n",
      "6     pastrami     3.0\n",
      "7    honey ham     5.0\n",
      "8     nova lox     6.0\n",
      "0       pig\n",
      "1       pig\n",
      "2       pig\n",
      "3       cow\n",
      "4       cow\n",
      "5       pig\n",
      "6       cow\n",
      "7       pig\n",
      "8    salmon\n",
      "Name: food, dtype: object\n"
     ]
    }
   ],
   "source": [
    "# Transforming data using a function or mapping\n",
    "data = DataFrame({'food': ['bacon', 'pulled pork', 'bacon', 'Pastrami',\n",
    "                           'corned beef', 'Bacon', 'pastrami', 'honey ham',\n",
    "                           'nova lox'],\n",
    "                  'ounces': [4, 3, 12, 6, 7.5, 8, 3, 5, 6]})\n",
    "print(data)\n",
    "\n",
    "#add a column\n",
    "meat_to_animal = {\n",
    "'bacon': 'pig',\n",
    "'pulled pork': 'pig',\n",
    "'pastrami': 'cow',\n",
    "'corned beef': 'cow',\n",
    "'honey ham': 'pig',\n",
    "'nova lox': 'salmon'\n",
    "}\n",
    "\n",
    "#some of the meats above are capitalized and others are not, we need to \n",
    "#convert each value to lower case\n",
    "print(data['animal'] = data['food'].map(str.lower).map(meat_to_animal))\n",
    "# can pass lambda function\n",
    "## apply map is used to map elements in a dataframe \n",
    "####print(data['food'].map(lambda x: meat_to_animal[x.lower()]))\n"
   ]
  },
  {
   "cell_type": "code",
   "execution_count": 66,
   "metadata": {},
   "outputs": [
    {
     "name": "stdout",
     "output_type": "stream",
     "text": [
      "0       1.0\n",
      "1    -999.0\n",
      "2       2.0\n",
      "3    -999.0\n",
      "4   -1000.0\n",
      "5       3.0\n",
      "dtype: float64\n"
     ]
    },
    {
     "data": {
      "text/plain": [
       "0    1.0\n",
       "1    NaN\n",
       "2    2.0\n",
       "3    NaN\n",
       "4    0.0\n",
       "5    3.0\n",
       "dtype: float64"
      ]
     },
     "execution_count": 66,
     "metadata": {},
     "output_type": "execute_result"
    }
   ],
   "source": [
    "# replacing values\n",
    "data = Series([1., -999., 2., -999., -1000., 3.])\n",
    "print(data)\n",
    "\n",
    "#replace -999.0 and -1000 with NA\n",
    "#data.replace(-999,np.nan)\n",
    "data.replace([-999, -1000], np.nan)\n",
    "\n",
    "#replace -999.0 and -1000 with NA and 0\n",
    "data.replace([-999, -1000], [np.nan, 0])\n",
    "\n",
    "### data.replace({-999: np.nan, -1000: 0})\n"
   ]
  },
  {
   "cell_type": "code",
   "execution_count": 74,
   "metadata": {},
   "outputs": [
    {
     "name": "stdout",
     "output_type": "stream",
     "text": [
      "          one  two  three  four\n",
      "Ohio        0    1      2     3\n",
      "Colorado    4    5      6     7\n",
      "New York    8    9     10    11\n",
      "          one  two  three  four\n",
      "OHIO        0    1      2     3\n",
      "COLORADO    4    5      6     7\n",
      "NEW YORK    8    9     10    11\n",
      "          one  two  three  four\n",
      "OHIO        0    1      2     3\n",
      "COLORADO    4    5      6     7\n",
      "NEW YORK    8    9     10    11\n",
      "          one  two  three  four\n",
      "OHIO        0    1      2     3\n",
      "COLORADO    4    5      6     7\n",
      "NEW YORK    8    9     10    11\n"
     ]
    }
   ],
   "source": [
    "# Renaming index\n",
    "data = DataFrame(np.arange(12).reshape((3, 4)),\n",
    "                 index=['Ohio', 'Colorado', 'New York'],\n",
    "                 columns=['one', 'two', 'three', 'four'])\n",
    "print(data)\n",
    "# map method\n",
    "data.index = data.index.map(str.upper) # array([OHIO, COLORADO, NEW YORK], dtype=object)\n",
    "print(data)\n",
    "\n",
    "# change the column name, why it doesn't works? \n",
    "data.rename(index=str.title, columns=str.upper)\n",
    "print(data)\n",
    "\n",
    "# change the value of index or title, why it doesn;t works?\n",
    "data.rename(index={'OHIO': 'INDIANA'},columns={'three': 'peekaboo'})\n",
    "print(data)\n"
   ]
  },
  {
   "cell_type": "code",
   "execution_count": 5,
   "metadata": {},
   "outputs": [
    {
     "name": "stdout",
     "output_type": "stream",
     "text": [
      "<class 'pandas.core.categorical.Categorical'>\n",
      "[(18, 25], (18, 25], (18, 25], (25, 35], (18, 25], ..., (25, 35], (60, 100], (35, 60], (35, 60], (25, 35]]\n",
      "Length: 12\n",
      "Categories (4, interval[int64]): [(18, 25] < (25, 35] < (35, 60] < (60, 100]]\n",
      "(18, 25]     5\n",
      "(35, 60]     3\n",
      "(25, 35]     3\n",
      "(60, 100]    1\n",
      "dtype: int64\n"
     ]
    }
   ],
   "source": [
    "# Discretization and Bining\n",
    "ages = [20, 22, 25, 27, 21, 23, 37, 31, 61, 45, 41, 32]\n",
    "#Let’s divide these into bins of 18 to 25, 26 to 35, 35 to 60, and finally 60 and older. To\n",
    "#do so, you have to use cut, a function in pandas:\n",
    "bins = [18, 25, 35, 60, 100]\n",
    "cats = pd.cut(ages, bins)\n",
    "\n",
    "print(type(cats)) # can be treate as an array of strings indicating the bin name\n",
    "print(cats)\n",
    "\n",
    "print(pd.value_counts(cats))\n"
   ]
  },
  {
   "cell_type": "code",
   "execution_count": 6,
   "metadata": {},
   "outputs": [
    {
     "data": {
      "text/plain": [
       "[Youth, Youth, Youth, YoungAdult, Youth, ..., YoungAdult, Senior, MiddleAged, MiddleAged, YoungAdult]\n",
       "Length: 12\n",
       "Categories (4, object): [Youth < YoungAdult < MiddleAged < Senior]"
      ]
     },
     "execution_count": 6,
     "metadata": {},
     "output_type": "execute_result"
    }
   ],
   "source": [
    "# put the label name\n",
    "group_names = ['Youth', 'YoungAdult', 'MiddleAged', 'Senior']\n",
    "pd.cut(ages, bins, labels=group_names)"
   ]
  },
  {
   "cell_type": "code",
   "execution_count": 8,
   "metadata": {},
   "outputs": [
    {
     "data": {
      "text/plain": [
       "<matplotlib.axes._subplots.AxesSubplot at 0x10896b390>"
      ]
     },
     "execution_count": 8,
     "metadata": {},
     "output_type": "execute_result"
    },
    {
     "data": {
      "image/png": "[encoded data removed]",
      "text/plain": [
       "<matplotlib.figure.Figure at 0x108063cc0>"
      ]
     },
     "metadata": {},
     "output_type": "display_data"
    }
   ],
   "source": [
    "%matplotlib inline\n",
    "pd.value_counts(cats).plot(kind = 'bar')"
   ]
  },
  {
   "cell_type": "code",
   "execution_count": 9,
   "metadata": {},
   "outputs": [
    {
     "data": {
      "text/plain": [
       "<matplotlib.axes._subplots.AxesSubplot at 0x109cf4208>"
      ]
     },
     "execution_count": 9,
     "metadata": {},
     "output_type": "execute_result"
    },
    {
     "data": {
      "image/png": "[encoded data removed]",
      "text/plain": [
       "<matplotlib.figure.Figure at 0x109d1e160>"
      ]
     },
     "metadata": {},
     "output_type": "display_data"
    }
   ],
   "source": [
    "pd.value_counts(cats).plot(kind = 'hist')"
   ]
  },
  {
   "cell_type": "code",
   "execution_count": 24,
   "metadata": {},
   "outputs": [
    {
     "data": {
      "text/plain": [
       "0      True\n",
       "1      True\n",
       "2      True\n",
       "3      True\n",
       "4      True\n",
       "5      True\n",
       "6      True\n",
       "7      True\n",
       "8      True\n",
       "9      True\n",
       "10     True\n",
       "11     True\n",
       "12     True\n",
       "13     True\n",
       "14     True\n",
       "15     True\n",
       "16     True\n",
       "17     True\n",
       "18     True\n",
       "19     True\n",
       "20     True\n",
       "21     True\n",
       "22     True\n",
       "23     True\n",
       "24     True\n",
       "25     True\n",
       "26     True\n",
       "27     True\n",
       "28     True\n",
       "29     True\n",
       "       ... \n",
       "970    True\n",
       "971    True\n",
       "972    True\n",
       "973    True\n",
       "974    True\n",
       "975    True\n",
       "976    True\n",
       "977    True\n",
       "978    True\n",
       "979    True\n",
       "980    True\n",
       "981    True\n",
       "982    True\n",
       "983    True\n",
       "984    True\n",
       "985    True\n",
       "986    True\n",
       "987    True\n",
       "988    True\n",
       "989    True\n",
       "990    True\n",
       "991    True\n",
       "992    True\n",
       "993    True\n",
       "994    True\n",
       "995    True\n",
       "996    True\n",
       "997    True\n",
       "998    True\n",
       "999    True\n",
       "Length: 1000, dtype: bool"
      ]
     },
     "execution_count": 24,
     "metadata": {},
     "output_type": "execute_result"
    }
   ],
   "source": [
    "# detecting and filter outliers\n",
    "np.random.seed(12345)\n",
    "data = DataFrame(np.random.randn(1000, 4))\n",
    "data.describe()  # show data's statistic output of each column\n",
    "\n",
    "# select all rows having a value exceeding 3 or -3\n",
    "# \n",
    "data[(np.abs(data) > 3).any(1)]\n",
    "data\n",
    "\n",
    "data2 = data.any(axis = 1)\n",
    "data2\n"
   ]
  },
  {
   "cell_type": "code",
   "execution_count": 25,
   "metadata": {},
   "outputs": [
    {
     "name": "stdout",
     "output_type": "stream",
     "text": [
      "number    one  two  three\n",
      "state                    \n",
      "Ohio        0    1      2\n",
      "Colorado    3    4      5\n",
      "state     number\n",
      "Ohio      one       0\n",
      "          two       1\n",
      "          three     2\n",
      "Colorado  one       3\n",
      "          two       4\n",
      "          three     5\n",
      "dtype: int64\n"
     ]
    }
   ],
   "source": [
    "#reshaping with hierarchical indexing \n",
    "data = DataFrame(np.arange(6).reshape((2, 3)),\n",
    "                 index=pd.Index(['Ohio', 'Colorado'], name='state'),\n",
    "                 columns=pd.Index(['one', 'two', 'three'], name='number'))\n",
    "print(data)\n",
    "\n",
    "#has row and column two index\n",
    "result = data.stack()\n",
    "#using the stack method on this data pivots the columns into the rows\n",
    "print(result)\n"
   ]
  },
  {
   "cell_type": "code",
   "execution_count": null,
   "metadata": {},
   "outputs": [],
   "source": []
  },
  {
   "cell_type": "code",
   "execution_count": 27,
   "metadata": {},
   "outputs": [
    {
     "name": "stdout",
     "output_type": "stream",
     "text": [
      "one  a    0\n",
      "     b    1\n",
      "     c    2\n",
      "     d    3\n",
      "two  c    4\n",
      "     d    5\n",
      "     e    6\n",
      "dtype: int64\n",
      "       a    b    c    d    e\n",
      "one  0.0  1.0  2.0  3.0  NaN\n",
      "two  NaN  NaN  4.0  5.0  6.0\n",
      "one  a    0.0\n",
      "     b    1.0\n",
      "     c    2.0\n",
      "     d    3.0\n",
      "two  c    4.0\n",
      "     d    5.0\n",
      "     e    6.0\n",
      "dtype: float64\n",
      "one  a    0.0\n",
      "     b    1.0\n",
      "     c    2.0\n",
      "     d    3.0\n",
      "     e    NaN\n",
      "two  a    NaN\n",
      "     b    NaN\n",
      "     c    4.0\n",
      "     d    5.0\n",
      "     e    6.0\n",
      "dtype: float64\n"
     ]
    }
   ],
   "source": [
    "s1 = Series([0, 1, 2, 3], index=['a', 'b', 'c', 'd'])\n",
    "s2 = Series([4, 5, 6], index=['c', 'd', 'e'])\n",
    "data2 = pd.concat([s1, s2], keys=['one', 'two'])\n",
    "print(data2)\n",
    "#rearrange the data \n",
    "print(data2.unstack())\n",
    "#Unstacking might introduce missing data if all of the values in the level aren’t found in\n",
    "#each of the subgroups,Stacking filters out missing data by default\n",
    "print(data2.unstack().stack() )\n",
    "print(data2.unstack().stack(dropna=False))\n"
   ]
  },
  {
   "cell_type": "code",
   "execution_count": null,
   "metadata": {},
   "outputs": [],
   "source": []
  },
  {
   "cell_type": "code",
   "execution_count": null,
   "metadata": {},
   "outputs": [],
   "source": []
  },
  {
   "cell_type": "code",
   "execution_count": 22,
   "metadata": {
    "scrolled": true
   },
   "outputs": [
    {
     "name": "stdout",
     "output_type": "stream",
     "text": [
      "side             left  right\n",
      "state    number             \n",
      "Ohio     one        0      5\n",
      "         two        1      6\n",
      "         three      2      7\n",
      "Colorado one        3      8\n",
      "         two        4      9\n",
      "         three      5     10\n",
      "side   left          right         \n",
      "state  Ohio Colorado  Ohio Colorado\n",
      "number                             \n",
      "one       0        3     5        8\n",
      "two       1        4     6        9\n",
      "three     2        5     7       10\n",
      "state         Colorado  Ohio\n",
      "number side                 \n",
      "one    left          3     0\n",
      "       right         8     5\n",
      "two    left          4     1\n",
      "       right         9     6\n",
      "three  left          5     2\n",
      "       right        10     7\n"
     ]
    }
   ],
   "source": [
    "#When unstacking in a DataFrame, the level unstacked becomes the lowest level in the\n",
    "#result:\n",
    "df = DataFrame({'left': result, 'right': result + 5},\n",
    "               columns=pd.Index(['left', 'right'], name='side'))\n",
    "print(df)\n",
    "print(df.unstack('state')) #unstack it by using state, it unstack state and side\n",
    "\n",
    "print(df.unstack('state').stack('side')) #just unstack the state\n"
   ]
  },
  {
   "cell_type": "markdown",
   "metadata": {},
   "source": [
    "# String Manipulation:\n",
    "String Object Method/\n",
    "Regular Expressions/\n",
    "Vectorized String functions in pandas"
   ]
  },
  {
   "cell_type": "code",
   "execution_count": 30,
   "metadata": {},
   "outputs": [
    {
     "name": "stdout",
     "output_type": "stream",
     "text": [
      "a:b:guidoa\n"
     ]
    }
   ],
   "source": [
    "# .join, index, count\n",
    "pieces = ['a', 'b', 'guidoa']\n",
    "val = ':'.join(pieces)\n",
    "print(val)\n",
    "\n"
   ]
  },
  {
   "cell_type": "code",
   "execution_count": 33,
   "metadata": {},
   "outputs": [
    {
     "name": "stdout",
     "output_type": "stream",
     "text": [
      "1\n"
     ]
    }
   ],
   "source": [
    "# \n",
    "#Using Python’s in keyword is the best way to detect a substring,\n",
    "print(val.index(':'))"
   ]
  },
  {
   "cell_type": "code",
   "execution_count": 36,
   "metadata": {},
   "outputs": [
    {
     "name": "stdout",
     "output_type": "stream",
     "text": [
      "2\n"
     ]
    }
   ],
   "source": [
    "#return number of occurences of a particular substring\n",
    "print(val.count('a'))"
   ]
  },
  {
   "cell_type": "code",
   "execution_count": 35,
   "metadata": {},
   "outputs": [
    {
     "name": "stdout",
     "output_type": "stream",
     "text": [
      "2\n",
      "a:;:guidoa\n"
     ]
    }
   ],
   "source": [
    "#replace method, replace b by ;\n",
    "print(val.replace('b', ';'))\n"
   ]
  },
  {
   "cell_type": "code",
   "execution_count": 4,
   "metadata": {},
   "outputs": [
    {
     "data": {
      "text/plain": [
       "'0.22.0'"
      ]
     },
     "execution_count": 4,
     "metadata": {},
     "output_type": "execute_result"
    }
   ],
   "source": [
    "pd.__version__\n"
   ]
  },
  {
   "cell_type": "code",
   "execution_count": 39,
   "metadata": {},
   "outputs": [
    {
     "name": "stdout",
     "output_type": "stream",
     "text": [
      "foo bar\t baz \tqux\n",
      "Dave dave@google.com\n",
      "Steve steve@gmail.com\n",
      "Rob rob@gmail.com\n",
      "Ryan ryan@yahoo.com\n",
      "\n",
      "[A-Z0-9._%+-]+@[A-Z0-9.-]+\\.[A-Z]{2,4}\n",
      "Dave redacted\n",
      "Steve redacted\n",
      "Rob redacted\n",
      "Ryan redacted\n",
      "\n"
     ]
    }
   ],
   "source": [
    "# regular expression\n",
    "import re\n",
    "text = \"foo bar\\t baz \\tqux\"\n",
    "re.split('\\s+', text)\n",
    "\n",
    "print(text)\n",
    "\n",
    "#When you call re.split('\\s+', text), the regular expression is first compiled, then its\n",
    "#split method is called on the passed text. You can compile the regex yourself with\n",
    "#re.compile, forming a reusable regex object:\n",
    "\n",
    "regex = re.compile('\\s+')\n",
    "regex.split(text)\n",
    "regex.findall(text)\n",
    "\n",
    "#Creating a regex object with re.compile is highly recommended if you intend to apply\n",
    "#the same expression to many strings; doing so will save CPU cycles.\n",
    "\n",
    "text = \"\"\"Dave dave@google.com\n",
    "Steve steve@gmail.com\n",
    "Rob rob@gmail.com\n",
    "Ryan ryan@yahoo.com\n",
    "\"\"\"\n",
    "print(text)\n",
    "pattern = r'[A-Z0-9._%+-]+@[A-Z0-9.-]+\\.[A-Z]{2,4}'\n",
    "print(pattern)\n",
    "\n",
    "regex = re.compile(pattern, flags=re.IGNORECASE)\n",
    "\n",
    "regex.findall(text)\n",
    "\n",
    "#sub will return a new string with occurrences of the pattern replaced by the\n",
    "#a new string:\n",
    "print(regex.sub('redacted',text))\n"
   ]
  },
  {
   "cell_type": "code",
   "execution_count": 40,
   "metadata": {},
   "outputs": [
    {
     "name": "stdout",
     "output_type": "stream",
     "text": [
      "Dave dave@google.com\n",
      "Steve steve@gmail.com\n",
      "Rob rob@gmail.com\n",
      "Ryan ryan@yahoo.com\n",
      "\n",
      "[A-Z0-9._%+-]+@[A-Z0-9.-]+\\.[A-Z]{2,4}\n"
     ]
    }
   ],
   "source": [
    "text = \"\"\"Dave dave@google.com\n",
    "Steve steve@gmail.com\n",
    "Rob rob@gmail.com\n",
    "Ryan ryan@yahoo.com\n",
    "\"\"\"\n",
    "print(text)\n",
    "pattern = r'[A-Z0-9._%+-]+@[A-Z0-9.-]+\\.[A-Z]{2,4}'\n",
    "print(pattern)"
   ]
  },
  {
   "cell_type": "code",
   "execution_count": 122,
   "metadata": {},
   "outputs": [
    {
     "name": "stdout",
     "output_type": "stream",
     "text": [
      "Dave     [dave@google.com]\n",
      "Rob        [rob@gmail.com]\n",
      "Steve    [steve@gmail.com]\n",
      "Wes                    NaN\n",
      "dtype: object\n",
      "Dave     True\n",
      "Rob      True\n",
      "Steve    True\n",
      "Wes       NaN\n",
      "dtype: object\n",
      "Dave    NaN\n",
      "Rob     NaN\n",
      "Steve   NaN\n",
      "Wes     NaN\n",
      "dtype: float64\n",
      "Dave    NaN\n",
      "Rob     NaN\n",
      "Steve   NaN\n",
      "Wes     NaN\n",
      "dtype: float64\n"
     ]
    }
   ],
   "source": [
    "#Vectorized string functions in pandas\n",
    "data = {'Dave': 'dave@google.com', 'Steve': 'steve@gmail.com',\n",
    "        'Rob': 'rob@gmail.com', 'Wes': np.nan}\n",
    "data = Series(data)\n",
    "#print(data)\n",
    "#print(data.isnull())\n",
    "\n",
    "#print(data.str.contains('gmail'))\n",
    "\n",
    "#print(pattern)\n",
    "\n",
    "print(data.str.findall(pattern, flags=re.IGNORECASE))\n",
    "\n",
    "matches = data.str.match(pattern, flags=re.IGNORECASE)\n",
    "print(matches)\n",
    "print(matches.str.get(1))\n",
    "print(matches.str[0])"
   ]
  }
 ],
 "metadata": {
  "kernelspec": {
   "display_name": "Python 3",
   "language": "python",
   "name": "python3"
  },
  "language_info": {
   "codemirror_mode": {
    "name": "ipython",
    "version": 3
   },
   "file_extension": ".py",
   "mimetype": "text/x-python",
   "name": "python",
   "nbconvert_exporter": "python",
   "pygments_lexer": "ipython3",
   "version": "3.6.4"
  }
 },
 "nbformat": 4,
 "nbformat_minor": 2
}
