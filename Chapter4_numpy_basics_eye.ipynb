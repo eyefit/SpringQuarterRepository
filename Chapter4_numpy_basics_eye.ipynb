{
 "cells": [
  {
   "cell_type": "markdown",
   "metadata": {
    "slideshow": {
     "slide_type": "slide"
    }
   },
   "source": [
    "# Numpy\n",
    "\n",
    "numpy is one of the most fundamental package in [scientific python stack](https://www.scipy.org/)\n",
    "which consists os other packages like matplotlib, scipy, pandas, sympy and ipython.\n",
    "\n"
   ]
  },
  {
   "cell_type": "markdown",
   "metadata": {
    "slideshow": {
     "slide_type": "slide"
    }
   },
   "source": [
    "It Provids following operations\n",
    "- Fast vectorized mathematics operations.\n",
    "- Common array algorithms like sorting, unique, and set operations\n",
    "- Efficient descriptive statistics and aggregating/summarizing data and group-wise data manipulations\n",
    "- Lot of other features. It is a big library"
   ]
  },
  {
   "cell_type": "markdown",
   "metadata": {
    "slideshow": {
     "slide_type": "slide"
    }
   },
   "source": [
    "# Why we care about numpy\n",
    "- It is designed for efficiency.\n",
    "- Under the hood it stores data in contigous block of memory\n",
    "- Algorithm written in c language can operate fast on data(no type checking etc.)\n",
    "- Less memeory footprint compred to python object"
   ]
  },
  {
   "cell_type": "markdown",
   "metadata": {
    "slideshow": {
     "slide_type": "slide"
    }
   },
   "source": [
    "# Is numpy fast comapred to basic python object. Really?\n",
    "\n",
    "\n",
    "Let see first hand. \n",
    "Let's create  10000 interger in numpy and python list and compare time to add them"
   ]
  },
  {
   "cell_type": "code",
   "execution_count": 8,
   "metadata": {
    "slideshow": {
     "slide_type": "subslide"
    }
   },
   "outputs": [
    {
     "name": "stdout",
     "output_type": "stream",
     "text": [
      "CPU times: user 1.02 ms, sys: 817 µs, total: 1.83 ms\n",
      "Wall time: 1.43 ms\n"
     ]
    }
   ],
   "source": [
    "import numpy as np\n",
    "max_num = 100000\n",
    "arr_int = np.arange(max_num)\n",
    "type(arr_int)\n",
    "list_int = list(range(max_num))\n",
    "%time  for _ in range(10): arr_int.sum()\n"
   ]
  },
  {
   "cell_type": "code",
   "execution_count": 4,
   "metadata": {
    "slideshow": {
     "slide_type": "subslide"
    }
   },
   "outputs": [
    {
     "name": "stdout",
     "output_type": "stream",
     "text": [
      "CPU times: user 107 ms, sys: 3.63 ms, total: 110 ms\n",
      "Wall time: 107 ms\n"
     ]
    }
   ],
   "source": [
    "#it is to add the function \n",
    "from functools import reduce\n",
    "# defining the \n",
    "def add(a, b):\n",
    "    return a+b\n",
    "\n",
    "%time for _ in range(10): reduce(add, list_int)"
   ]
  },
  {
   "cell_type": "code",
   "execution_count": 5,
   "metadata": {},
   "outputs": [
    {
     "name": "stdout",
     "output_type": "stream",
     "text": [
      "CPU times: user 107 ms, sys: 3.05 ms, total: 110 ms\n",
      "Wall time: 107 ms\n"
     ]
    }
   ],
   "source": [
    "#it is to add the function \n",
    "from functools import reduce\n",
    "%time for _ in range(10): reduce(lambda a, b : a+b, list_int)"
   ]
  },
  {
   "cell_type": "markdown",
   "metadata": {
    "slideshow": {
     "slide_type": "slide"
    }
   },
   "source": [
    "# The NumPy ndarray: A Multidimensional Array Object\n",
    "\n",
    "An ndarray is a generic multidimensional container for homogeneous data; that is, all of the elements must be the same type. \n",
    "- One of the most fundamental object in numpy is ndarray or N-dimentional array abstraction.\n",
    "- It support fast operation on vector, matrices and higher dimensional tensors.\n"
   ]
  },
  {
   "cell_type": "code",
   "execution_count": 9,
   "metadata": {
    "slideshow": {
     "slide_type": "subslide"
    }
   },
   "outputs": [
    {
     "name": "stdout",
     "output_type": "stream",
     "text": [
      "<class 'numpy.ndarray'>\n",
      "(100000,)\n",
      "int64\n"
     ]
    },
    {
     "data": {
      "text/plain": [
       "array([    0,     1,     2, ..., 99997, 99998, 99999])"
      ]
     },
     "execution_count": 9,
     "metadata": {},
     "output_type": "execute_result"
    }
   ],
   "source": [
    "import numpy as np\n",
    "# let check the type of earlier numpy arr of int\n",
    "print(type(arr_int))\n",
    "# it has size shape \n",
    "print(arr_int.shape)\n",
    "# dtype(data type of the array)\n",
    "print(arr_int.dtype)\n",
    "arr_int"
   ]
  },
  {
   "cell_type": "code",
   "execution_count": 10,
   "metadata": {
    "collapsed": true,
    "slideshow": {
     "slide_type": "subslide"
    }
   },
   "outputs": [],
   "source": [
    "np.array?"
   ]
  },
  {
   "cell_type": "code",
   "execution_count": 11,
   "metadata": {
    "slideshow": {
     "slide_type": "subslide"
    }
   },
   "outputs": [
    {
     "name": "stdout",
     "output_type": "stream",
     "text": [
      "[ 1.  3.  5.  8.]\n"
     ]
    }
   ],
   "source": [
    "# by directly giving list of elements\n",
    "\n",
    "arr1 = np.array([1, 3 ,5, 8.0])\n",
    "print(arr1)"
   ]
  },
  {
   "cell_type": "code",
   "execution_count": 23,
   "metadata": {
    "slideshow": {
     "slide_type": "subslide"
    }
   },
   "outputs": [
    {
     "name": "stdout",
     "output_type": "stream",
     "text": [
      "<class 'numpy.ndarray'>\n",
      "(2, 3)\n"
     ]
    },
    {
     "data": {
      "text/plain": [
       "2"
      ]
     },
     "execution_count": 23,
     "metadata": {},
     "output_type": "execute_result"
    }
   ],
   "source": [
    "# create a two dimension array with first row 1.1 ,5 ,7 and second row 5, 10, 12 ?\n",
    "# hint use list of list in array argument\n",
    "arr2 = np.array([[1.1 ,5 ,7],[5, 10, 12]])\n",
    "arr2\n",
    "print(type(arr2))\n",
    "print(arr2.shape)\n",
    "len(arr2)\n",
    "#arr2.shape\n",
    "\n",
    "#dimn(arr2)"
   ]
  },
  {
   "cell_type": "code",
   "execution_count": 27,
   "metadata": {
    "slideshow": {
     "slide_type": "subslide"
    }
   },
   "outputs": [
    {
     "data": {
      "text/plain": [
       "6"
      ]
     },
     "execution_count": 27,
     "metadata": {},
     "output_type": "execute_result"
    }
   ],
   "source": [
    "## print its shape and dtype?\n",
    "#print(arr2.shape)\n",
    "## Or\n",
    "arr2.shape\n",
    "arr2.dtype\n",
    "## print dimension of this array. hint check it properties using . and tab\n",
    "len(arr2)\n",
    "## to see its size\n",
    "arr2.size\n",
    "\n"
   ]
  },
  {
   "cell_type": "markdown",
   "metadata": {
    "slideshow": {
     "slide_type": "slide"
    }
   },
   "source": [
    "## is there other way to create  numpy array object?"
   ]
  },
  {
   "cell_type": "code",
   "execution_count": 23,
   "metadata": {
    "slideshow": {
     "slide_type": "subslide"
    }
   },
   "outputs": [
    {
     "data": {
      "text/plain": [
       "array([ 1.,  1.,  1.,  1.,  1.,  1.,  1.,  1.,  1.,  1.])"
      ]
     },
     "execution_count": 23,
     "metadata": {},
     "output_type": "execute_result"
    }
   ],
   "source": [
    "np.ones(10)"
   ]
  },
  {
   "cell_type": "code",
   "execution_count": 26,
   "metadata": {},
   "outputs": [
    {
     "data": {
      "text/plain": [
       "array([1, 1, 1, 1, 1, 1, 1, 1, 1, 1])"
      ]
     },
     "execution_count": 26,
     "metadata": {},
     "output_type": "execute_result"
    }
   ],
   "source": [
    "np.ones(10, dtype = int)"
   ]
  },
  {
   "cell_type": "code",
   "execution_count": 24,
   "metadata": {
    "slideshow": {
     "slide_type": "subslide"
    }
   },
   "outputs": [
    {
     "data": {
      "text/plain": [
       "array([[ 0.,  0.,  0.,  0.],\n",
       "       [ 0.,  0.,  0.,  0.],\n",
       "       [ 0.,  0.,  0.,  0.],\n",
       "       [ 0.,  0.,  0.,  0.],\n",
       "       [ 0.,  0.,  0.,  0.]])"
      ]
     },
     "execution_count": 24,
     "metadata": {},
     "output_type": "execute_result"
    }
   ],
   "source": [
    "# for higher dimetional array pass shape as tuple\n",
    "np.zeros((5, 4))"
   ]
  },
  {
   "cell_type": "code",
   "execution_count": 27,
   "metadata": {},
   "outputs": [
    {
     "data": {
      "text/plain": [
       "array([[0, 0, 0, 0],\n",
       "       [0, 0, 0, 0],\n",
       "       [0, 0, 0, 0],\n",
       "       [0, 0, 0, 0],\n",
       "       [0, 0, 0, 0]])"
      ]
     },
     "execution_count": 27,
     "metadata": {},
     "output_type": "execute_result"
    }
   ],
   "source": [
    "np.zeros((5, 4), dtype = int)"
   ]
  },
  {
   "cell_type": "code",
   "execution_count": 28,
   "metadata": {
    "slideshow": {
     "slide_type": "subslide"
    }
   },
   "outputs": [
    {
     "data": {
      "text/plain": [
       "array([0, 1, 2, 3, 4, 5, 6, 7, 8, 9])"
      ]
     },
     "execution_count": 28,
     "metadata": {},
     "output_type": "execute_result"
    }
   ],
   "source": [
    "# handy way to create array of integer upto a maximum\n",
    "np.arange(10)"
   ]
  },
  {
   "cell_type": "code",
   "execution_count": 37,
   "metadata": {
    "slideshow": {
     "slide_type": "subslide"
    }
   },
   "outputs": [
    {
     "name": "stdout",
     "output_type": "stream",
     "text": [
      "[[ 1.  0.  0.  0.]\n",
      " [ 0.  1.  0.  0.]\n",
      " [ 0.  0.  1.  0.]\n",
      " [ 0.  0.  0.  1.]]\n"
     ]
    }
   ],
   "source": [
    "# create identity matrix of size 4x4 ??? \n",
    "print(np.identity(4))"
   ]
  },
  {
   "cell_type": "code",
   "execution_count": 38,
   "metadata": {},
   "outputs": [
    {
     "name": "stdout",
     "output_type": "stream",
     "text": [
      "[[ 1.  0.  0.  0.]\n",
      " [ 0.  1.  0.  0.]\n",
      " [ 0.  0.  1.  0.]\n",
      " [ 0.  0.  0.  1.]]\n"
     ]
    }
   ],
   "source": [
    "print(np.eye(4))"
   ]
  },
  {
   "cell_type": "code",
   "execution_count": 32,
   "metadata": {
    "slideshow": {
     "slide_type": "subslide"
    }
   },
   "outputs": [
    {
     "name": "stdout",
     "output_type": "stream",
     "text": [
      "int64\n",
      "float64\n"
     ]
    }
   ],
   "source": [
    "# convert following array to float?\n",
    "arr = np.array([1, 2, 3, 4, 5])\n",
    "print(arr.dtype)\n",
    "arr = arr.astype(float)\n",
    "print(arr.dtype)"
   ]
  },
  {
   "cell_type": "markdown",
   "metadata": {
    "slideshow": {
     "slide_type": "slide"
    }
   },
   "source": [
    "## Arithmetic with NumPy Arrays\n",
    "\n",
    "Any arithmetic operations between equal-size arrays applies the operation element-wise"
   ]
  },
  {
   "cell_type": "code",
   "execution_count": 43,
   "metadata": {
    "slideshow": {
     "slide_type": "subslide"
    }
   },
   "outputs": [
    {
     "data": {
      "text/plain": [
       "array([[ 1.,  2.],\n",
       "       [ 3.,  4.]])"
      ]
     },
     "execution_count": 43,
     "metadata": {},
     "output_type": "execute_result"
    }
   ],
   "source": [
    "arr = np.arange(1, 5, dtype=float).reshape((2,2))\n",
    "arr"
   ]
  },
  {
   "cell_type": "code",
   "execution_count": 44,
   "metadata": {
    "slideshow": {
     "slide_type": "subslide"
    }
   },
   "outputs": [
    {
     "data": {
      "text/plain": [
       "array([[  1.,   4.],\n",
       "       [  9.,  16.]])"
      ]
     },
     "execution_count": 44,
     "metadata": {},
     "output_type": "execute_result"
    }
   ],
   "source": [
    "# let's multiply. element wise mulitplication as far as size matches\n",
    "arr*arr"
   ]
  },
  {
   "cell_type": "code",
   "execution_count": 46,
   "metadata": {},
   "outputs": [
    {
     "data": {
      "text/plain": [
       "array([[  1.,   8.],\n",
       "       [ 27.,  64.]])"
      ]
     },
     "execution_count": 46,
     "metadata": {},
     "output_type": "execute_result"
    }
   ],
   "source": [
    "arr**3"
   ]
  },
  {
   "cell_type": "code",
   "execution_count": 47,
   "metadata": {},
   "outputs": [
    {
     "data": {
      "text/plain": [
       "array([[ 2.,  4.],\n",
       "       [ 6.,  8.]])"
      ]
     },
     "execution_count": 47,
     "metadata": {},
     "output_type": "execute_result"
    }
   ],
   "source": [
    "arr*2"
   ]
  },
  {
   "cell_type": "code",
   "execution_count": 48,
   "metadata": {},
   "outputs": [
    {
     "data": {
      "text/plain": [
       "array([[ 1.,  2.],\n",
       "       [ 3.,  4.]])"
      ]
     },
     "execution_count": 48,
     "metadata": {},
     "output_type": "execute_result"
    }
   ],
   "source": [
    "arr"
   ]
  },
  {
   "cell_type": "code",
   "execution_count": 49,
   "metadata": {},
   "outputs": [
    {
     "data": {
      "text/plain": [
       "array([[  7.,  10.],\n",
       "       [ 15.,  22.]])"
      ]
     },
     "execution_count": 49,
     "metadata": {},
     "output_type": "execute_result"
    }
   ],
   "source": [
    "np.matmul(arr, arr)"
   ]
  },
  {
   "cell_type": "code",
   "execution_count": 54,
   "metadata": {},
   "outputs": [
    {
     "data": {
      "text/plain": [
       "array([[  7.,  10.],\n",
       "       [ 15.,  22.]])"
      ]
     },
     "execution_count": 54,
     "metadata": {},
     "output_type": "execute_result"
    }
   ],
   "source": [
    "np.dot(arr, arr)"
   ]
  },
  {
   "cell_type": "code",
   "execution_count": 38,
   "metadata": {
    "slideshow": {
     "slide_type": "subslide"
    }
   },
   "outputs": [
    {
     "data": {
      "text/plain": [
       "array([[   1.,    4.],\n",
       "       [  27.,  256.]])"
      ]
     },
     "execution_count": 38,
     "metadata": {},
     "output_type": "execute_result"
    }
   ],
   "source": [
    "# raise each element power of itself in the martix?\n",
    "arr = np.arange(1, 5, dtype=float).reshape((2,2))\n",
    "arr\n",
    "arr**arr"
   ]
  },
  {
   "cell_type": "code",
   "execution_count": 39,
   "metadata": {
    "slideshow": {
     "slide_type": "subslide"
    }
   },
   "outputs": [
    {
     "data": {
      "text/plain": [
       "array([[  1.,   4.],\n",
       "       [  9.,  16.]])"
      ]
     },
     "execution_count": 39,
     "metadata": {},
     "output_type": "execute_result"
    }
   ],
   "source": [
    "# how to do matrix multiplication?\n",
    "arr*arr\n"
   ]
  },
  {
   "cell_type": "markdown",
   "metadata": {
    "slideshow": {
     "slide_type": "slide"
    }
   },
   "source": [
    "## Basic Indexing and Slicing"
   ]
  },
  {
   "cell_type": "code",
   "execution_count": 40,
   "metadata": {
    "slideshow": {
     "slide_type": "subslide"
    }
   },
   "outputs": [
    {
     "data": {
      "text/plain": [
       "array([[1, 2, 3],\n",
       "       [4, 5, 6],\n",
       "       [7, 8, 9]])"
      ]
     },
     "execution_count": 40,
     "metadata": {},
     "output_type": "execute_result"
    }
   ],
   "source": [
    "arr2d = np.array([[1, 2, 3],[4, 5, 6], [7, 8, 9]])\n",
    "arr2d"
   ]
  },
  {
   "cell_type": "code",
   "execution_count": 42,
   "metadata": {
    "slideshow": {
     "slide_type": "subslide"
    }
   },
   "outputs": [
    {
     "data": {
      "text/plain": [
       "array([[1, 2, 3],\n",
       "       [4, 5, 6]])"
      ]
     },
     "execution_count": 42,
     "metadata": {},
     "output_type": "execute_result"
    }
   ],
   "source": [
    "# slice first two rows?\n",
    "arr2d[0:2, :]"
   ]
  },
  {
   "cell_type": "code",
   "execution_count": 70,
   "metadata": {
    "slideshow": {
     "slide_type": "subslide"
    }
   },
   "outputs": [
    {
     "data": {
      "text/plain": [
       "array([[5, 6],\n",
       "       [8, 9]])"
      ]
     },
     "execution_count": 70,
     "metadata": {},
     "output_type": "execute_result"
    }
   ],
   "source": [
    "# slice 2nd and 3rd row and second and third column\n",
    "\n",
    "arr2d[1:3, 1:3]\n"
   ]
  },
  {
   "cell_type": "markdown",
   "metadata": {
    "slideshow": {
     "slide_type": "slide"
    }
   },
   "source": [
    "## Boolean Indexing"
   ]
  },
  {
   "cell_type": "code",
   "execution_count": 43,
   "metadata": {
    "slideshow": {
     "slide_type": "subslide"
    }
   },
   "outputs": [
    {
     "data": {
      "text/plain": [
       "array([[ 0.7612579 , -1.40130308, -0.17095437, -1.47722797],\n",
       "       [ 1.85835135,  0.09463602,  1.66929401, -1.31425871],\n",
       "       [ 1.21005039, -0.70806774,  1.33369619,  0.40825378]])"
      ]
     },
     "execution_count": 43,
     "metadata": {},
     "output_type": "execute_result"
    }
   ],
   "source": [
    "arr = np.random.randn(3, 4)\n",
    "arr"
   ]
  },
  {
   "cell_type": "code",
   "execution_count": 48,
   "metadata": {
    "slideshow": {
     "slide_type": "subslide"
    }
   },
   "outputs": [
    {
     "name": "stdout",
     "output_type": "stream",
     "text": [
      "[[ True False False False]\n",
      " [ True False  True False]\n",
      " [ True False  True False]]\n"
     ]
    }
   ],
   "source": [
    "# find all the values grater than .5\n",
    "## checking the values if they are greater than .5\n",
    "print(arr>.5)"
   ]
  },
  {
   "cell_type": "code",
   "execution_count": 49,
   "metadata": {},
   "outputs": [
    {
     "data": {
      "text/plain": [
       "array([ 0.7612579 ,  1.85835135,  1.66929401,  1.21005039,  1.33369619])"
      ]
     },
     "execution_count": 49,
     "metadata": {},
     "output_type": "execute_result"
    }
   ],
   "source": [
    "arr[arr>.5]"
   ]
  },
  {
   "cell_type": "markdown",
   "metadata": {
    "slideshow": {
     "slide_type": "slide"
    }
   },
   "source": [
    "## Fancy Indexing\n",
    "\n",
    "Fancy indexing is a term adopted by NumPy to describe indexing using integer arrays.\n"
   ]
  },
  {
   "cell_type": "code",
   "execution_count": 51,
   "metadata": {
    "slideshow": {
     "slide_type": "subslide"
    }
   },
   "outputs": [
    {
     "name": "stdout",
     "output_type": "stream",
     "text": [
      "[10 20]\n"
     ]
    }
   ],
   "source": [
    "arr2d = np.array([[2, 5 ,8],[ 10, 20, 30]])\n",
    "print(arr2d)\n",
    "print(arr2d[[1, 1], [ 0, 1]])\n",
    "\n"
   ]
  },
  {
   "cell_type": "markdown",
   "metadata": {
    "slideshow": {
     "slide_type": "slide"
    }
   },
   "source": [
    "## Views versus copies in NumPy\n",
    "\n",
    " View is another way of vewing same data.\n",
    "**slicing creates view and fancy index doesn't createview**"
   ]
  },
  {
   "cell_type": "code",
   "execution_count": 78,
   "metadata": {
    "slideshow": {
     "slide_type": "subslide"
    }
   },
   "outputs": [
    {
     "name": "stdout",
     "output_type": "stream",
     "text": [
      "[ 1  2  3  4  5  6  7  8  9 10]\n"
     ]
    }
   ],
   "source": [
    "a = np.arange(1, 11)\n",
    "print(a)"
   ]
  },
  {
   "cell_type": "code",
   "execution_count": 79,
   "metadata": {
    "slideshow": {
     "slide_type": "subslide"
    }
   },
   "outputs": [
    {
     "name": "stdout",
     "output_type": "stream",
     "text": [
      "[2 3 4]\n"
     ]
    }
   ],
   "source": [
    "aslice = a[1:4]\n",
    "print(aslice)"
   ]
  },
  {
   "cell_type": "code",
   "execution_count": 80,
   "metadata": {
    "slideshow": {
     "slide_type": "subslide"
    }
   },
   "outputs": [
    {
     "name": "stdout",
     "output_type": "stream",
     "text": [
      "[20 20 20]\n"
     ]
    }
   ],
   "source": [
    "a[1:4] = 20\n",
    "print(aslice)"
   ]
  },
  {
   "cell_type": "markdown",
   "metadata": {
    "slideshow": {
     "slide_type": "slide"
    }
   },
   "source": [
    "## Transposing Arrays and Swapping Axes\n",
    "\n",
    "**note that swapaxes return view of data**"
   ]
  },
  {
   "cell_type": "code",
   "execution_count": 56,
   "metadata": {
    "slideshow": {
     "slide_type": "subslide"
    }
   },
   "outputs": [
    {
     "name": "stdout",
     "output_type": "stream",
     "text": [
      "[[ 0  1  2  3]\n",
      " [ 4  5  6  7]\n",
      " [ 8  9 10 11]]\n",
      "Transpose is\n",
      "[[ 0  4  8]\n",
      " [ 1  5  9]\n",
      " [ 2  6 10]\n",
      " [ 3  7 11]]\n",
      "Or\n",
      "[[ 0  4  8]\n",
      " [ 1  5  9]\n",
      " [ 2  6 10]\n",
      " [ 3  7 11]]\n"
     ]
    }
   ],
   "source": [
    "a = np.arange(12).reshape((3, 4))\n",
    "print(a)\n",
    "print('Transpose is')\n",
    "## ???\n",
    "print(a.transpose())\n",
    "## Or\n",
    "print(\"Or\")\n",
    "print(a.T)"
   ]
  },
  {
   "cell_type": "code",
   "execution_count": 57,
   "metadata": {
    "slideshow": {
     "slide_type": "subslide"
    }
   },
   "outputs": [
    {
     "name": "stdout",
     "output_type": "stream",
     "text": [
      "[[[ 0  1  2  3]\n",
      "  [ 4  5  6  7]]\n",
      "\n",
      " [[ 8  9 10 11]\n",
      "  [12 13 14 15]]]\n",
      "swapping axis (0, 1, 2) to (1, 0, 2) \n",
      "[[[ 0  1  2  3]\n",
      "  [ 8  9 10 11]]\n",
      "\n",
      " [[ 4  5  6  7]\n",
      "  [12 13 14 15]]]\n"
     ]
    }
   ],
   "source": [
    "#For higher dimensional arrays, transpose will accept a tuple of axis numbers to permute the axes \n",
    "arr = np.arange(16).reshape((2, 2, 4))\n",
    "print(arr)\n",
    "print('swapping axis (0, 1, 2) to (1, 0, 2) ')\n",
    "\n",
    "print(arr.transpose((1, 0, 2)))"
   ]
  },
  {
   "cell_type": "code",
   "execution_count": 59,
   "metadata": {
    "slideshow": {
     "slide_type": "subslide"
    }
   },
   "outputs": [
    {
     "name": "stdout",
     "output_type": "stream",
     "text": [
      "[[[ 0  1  2  3]\n",
      "  [ 4  5  6  7]]\n",
      "\n",
      " [[ 8  9 10 11]\n",
      "  [12 13 14 15]]]\n",
      "after swapping axis 1 and 2\n"
     ]
    },
    {
     "data": {
      "text/plain": [
       "array([[[ 0,  4],\n",
       "        [ 1,  5],\n",
       "        [ 2,  6],\n",
       "        [ 3,  7]],\n",
       "\n",
       "       [[ 8, 12],\n",
       "        [ 9, 13],\n",
       "        [10, 14],\n",
       "        [11, 15]]])"
      ]
     },
     "execution_count": 59,
     "metadata": {},
     "output_type": "execute_result"
    }
   ],
   "source": [
    "#For 2d array T was same as swapaxes. For ndarray has the method swapaxes\n",
    "print(arr)\n",
    "print('after swapping axis 1 and 2')\n",
    "### ????\n",
    "arr.swapaxes(1,2)"
   ]
  },
  {
   "cell_type": "markdown",
   "metadata": {
    "slideshow": {
     "slide_type": "slide"
    }
   },
   "source": [
    "## Universal Functions(ufun): Fast Element-Wise Array Functions\n",
    "\n",
    "ufunc, is a function that performs element-wise operations on data in ndarrays\n",
    "like **sqrt, exp , log, floor, isnan etc.** \n",
    "\n",
    "They can take more tan one array depnding on operation."
   ]
  },
  {
   "cell_type": "code",
   "execution_count": 60,
   "metadata": {
    "slideshow": {
     "slide_type": "subslide"
    }
   },
   "outputs": [
    {
     "data": {
      "text/plain": [
       "array([[ 1.        ,  2.        ],\n",
       "       [ 2.44948974,  3.        ]])"
      ]
     },
     "execution_count": 60,
     "metadata": {},
     "output_type": "execute_result"
    }
   ],
   "source": [
    "a = np.array([[1 ,4 ],[6, 9]])\n",
    "np.sqrt(a)"
   ]
  },
  {
   "cell_type": "markdown",
   "metadata": {
    "slideshow": {
     "slide_type": "slide"
    }
   },
   "source": [
    "## Array-Oriented Programming with Arrays \n",
    "\n",
    "Usng nd array we can write may task involving loops and simple array expression.\n"
   ]
  },
  {
   "cell_type": "markdown",
   "metadata": {
    "slideshow": {
     "slide_type": "slide"
    }
   },
   "source": [
    "\n",
    "### Expressing Conditional Logic as Array Operations\n",
    "numpy.where function is a vectorized version of the ternary expression x if condition else y"
   ]
  },
  {
   "cell_type": "code",
   "execution_count": 61,
   "metadata": {
    "slideshow": {
     "slide_type": "subslide"
    }
   },
   "outputs": [
    {
     "data": {
      "text/plain": [
       "array([ 1, -6, -7,  7])"
      ]
     },
     "execution_count": 61,
     "metadata": {},
     "output_type": "execute_result"
    }
   ],
   "source": [
    "x = np.array([1, 3 ,5 ,7])\n",
    "y = np.array([-4, -6, -7, -10])\n",
    "cond = np.array([True, False, False, True])\n",
    "np.where(cond, x, y)"
   ]
  },
  {
   "cell_type": "code",
   "execution_count": 62,
   "metadata": {
    "slideshow": {
     "slide_type": "subslide"
    }
   },
   "outputs": [
    {
     "name": "stdout",
     "output_type": "stream",
     "text": [
      "[[-2.18394791  2.11194039 -0.62325106]\n",
      " [-0.68472145  1.35494642 -0.68954181]\n",
      " [-0.13290908 -0.82220799 -0.96809586]]\n"
     ]
    },
    {
     "data": {
      "text/plain": [
       "array([1, 3, 5, 7])"
      ]
     },
     "execution_count": 62,
     "metadata": {},
     "output_type": "execute_result"
    }
   ],
   "source": [
    "arr= np.random.randn( 3,3)\n",
    "print(arr)\n",
    "## ? create a new array with element 1 if arr has positive element or -1 if array has negative element\n",
    "x = np.array([1, 3 ,5 ,7])\n",
    "y = np.array([-4, -6, -7, -10])\n",
    "cond = np.array([1, -1, -1, 1])\n",
    "np.where(cond, x, y)\n"
   ]
  },
  {
   "cell_type": "markdown",
   "metadata": {
    "slideshow": {
     "slide_type": "slide"
    }
   },
   "source": [
    "## Mathematical and Statistical Methods"
   ]
  },
  {
   "cell_type": "code",
   "execution_count": 63,
   "metadata": {
    "slideshow": {
     "slide_type": "subslide"
    }
   },
   "outputs": [
    {
     "name": "stdout",
     "output_type": "stream",
     "text": [
      "[[1 2 3]\n",
      " [4 5 6]]\n",
      "[1 4]\n"
     ]
    }
   ],
   "source": [
    "arr = np.array([[1, 2 ,3], [4, 5 ,6]])\n",
    "print(arr)\n",
    "\n",
    "## print them mean along axis = 1, ????????\n",
    "print(arr.min(axis=1))"
   ]
  },
  {
   "cell_type": "code",
   "execution_count": 65,
   "metadata": {
    "slideshow": {
     "slide_type": "subslide"
    }
   },
   "outputs": [
    {
     "name": "stdout",
     "output_type": "stream",
     "text": [
      "[ 1  4 16 23 32]\n",
      "[   1    3   36  252 2268]\n"
     ]
    }
   ],
   "source": [
    "arr = np.array([1 , 3 , 12 ,7, 9])\n",
    "##print cumsum\n",
    "print(arr.cumsum())\n",
    "\n",
    "## print cumprodduct???\n",
    "print(arr.cumprod())\n",
    "\n",
    "\n",
    "\n",
    "\n",
    "# extension for higher dimension existand and one can specify the axis to act along"
   ]
  },
  {
   "cell_type": "code",
   "execution_count": 66,
   "metadata": {
    "slideshow": {
     "slide_type": "subslide"
    }
   },
   "outputs": [
    {
     "name": "stdout",
     "output_type": "stream",
     "text": [
      "2\n"
     ]
    }
   ],
   "source": [
    "## find the indcies of max element\n",
    "print(arr.argmax())"
   ]
  },
  {
   "cell_type": "markdown",
   "metadata": {
    "slideshow": {
     "slide_type": "slide"
    }
   },
   "source": [
    "## Methods for Boolean Arrays\n",
    "\n",
    "**any, all and logical operator**.\n",
    "\n",
    "Really helpful in writing algorithmic code where you need to check lot of path"
   ]
  },
  {
   "cell_type": "code",
   "execution_count": 67,
   "metadata": {
    "slideshow": {
     "slide_type": "subslide"
    }
   },
   "outputs": [
    {
     "name": "stdout",
     "output_type": "stream",
     "text": [
      "[ 5  6  1  5 -4  2]\n"
     ]
    },
    {
     "data": {
      "text/plain": [
       "1"
      ]
     },
     "execution_count": 67,
     "metadata": {},
     "output_type": "execute_result"
    }
   ],
   "source": [
    "arr = np.random.randint(-5, high = 10, size = 6)\n",
    "print(arr)\n",
    "## count number of negative element???\n",
    "(arr < 0).sum()"
   ]
  },
  {
   "cell_type": "code",
   "execution_count": 68,
   "metadata": {
    "slideshow": {
     "slide_type": "subslide"
    }
   },
   "outputs": [
    {
     "data": {
      "text/plain": [
       "False"
      ]
     },
     "execution_count": 68,
     "metadata": {},
     "output_type": "execute_result"
    }
   ],
   "source": [
    "bool_arr= np.array([True, True, False, True])\n",
    "## check if any elementis true??\n",
    "bool_arr.any()\n",
    "## check is all element are true\n",
    "bool_arr.all()"
   ]
  },
  {
   "cell_type": "markdown",
   "metadata": {
    "slideshow": {
     "slide_type": "slide"
    }
   },
   "source": [
    "## Sorting\n",
    "similar to python builtin sort for list"
   ]
  },
  {
   "cell_type": "code",
   "execution_count": 21,
   "metadata": {
    "slideshow": {
     "slide_type": "subslide"
    }
   },
   "outputs": [
    {
     "name": "stdout",
     "output_type": "stream",
     "text": [
      "[-2  1  3  5  8]\n",
      "3\n"
     ]
    }
   ],
   "source": [
    "import numpy as np\n",
    "arr= np.array([3, -2 ,8 ,1, 5])\n",
    "arr.sort()\n",
    "print(arr)\n",
    "\n",
    "print(arr[int(.5*len(arr))]) ## middle element"
   ]
  },
  {
   "cell_type": "code",
   "execution_count": 1,
   "metadata": {
    "slideshow": {
     "slide_type": "subslide"
    }
   },
   "outputs": [
    {
     "name": "stdout",
     "output_type": "stream",
     "text": [
      "['Eyerusalem', 'Marnie', 'Moran', 'Rosy']\n",
      "['Rosy', 'Moran', 'Marnie', 'Eyerusalem']\n"
     ]
    },
    {
     "data": {
      "text/plain": [
       "['Eyerusalem', 'Marnie', 'Moran', 'Rosy']"
      ]
     },
     "execution_count": 1,
     "metadata": {},
     "output_type": "execute_result"
    }
   ],
   "source": [
    "import numpy as np\n",
    "## side\n",
    "names = ['Moran' , 'Rosy'  , 'Eyerusalem', 'Marnie']\n",
    "print(sorted(names))\n",
    "\n",
    "## what if I want to sort by length, lower length first???\n",
    "## sorting by length\n",
    "### Starting from the shortest\n",
    "print(sorted(names, key=len))\n",
    "\n",
    "### Starting from the longest\n",
    "sorted(names, key=len, reverse = True)\n",
    "\n",
    "# psn 3/3. sorted(names, key=len) is right. We want lower length first"
   ]
  },
  {
   "cell_type": "markdown",
   "metadata": {
    "slideshow": {
     "slide_type": "slide"
    }
   },
   "source": [
    "## Unique and Other Set Logic\n",
    "Some operations for one dimensional array\n",
    "**unique, intersect1d(x, y),  union1d(x, y) etc**"
   ]
  },
  {
   "cell_type": "code",
   "execution_count": 6,
   "metadata": {
    "slideshow": {
     "slide_type": "subslide"
    }
   },
   "outputs": [
    {
     "name": "stdout",
     "output_type": "stream",
     "text": [
      "['Eyerusalem' 'Marnie' 'Moran' 'Rosy']\n",
      "\n",
      " Using pure python \n",
      "\n",
      "['Moran', 'Rosy', 'Eyerusalem', 'Marnie']\n"
     ]
    }
   ],
   "source": [
    "import numpy as np\n",
    "names = np.array(['Moran' , 'Rosy'  , 'Eyerusalem', 'Marnie', 'Moran'])\n",
    "\n",
    "print(np.unique(names))\n",
    "\n",
    "print(\"\\n Using pure python \\n\")\n",
    "\n",
    "## can you do it in pure python ??\n",
    "## in sets order does not matter\n",
    "unique = []\n",
    "for i in names:\n",
    "    if i not in unique:\n",
    "        unique.append(i)\n",
    "print(unique)\n",
    "# psn points 3/3. although set(names) would be more simple"
   ]
  },
  {
   "cell_type": "markdown",
   "metadata": {
    "slideshow": {
     "slide_type": "slide"
    }
   },
   "source": [
    "## Linear Algebra\n",
    "numpy.linalg has a standard set of matrix  operation(?). These are typically implemneted in BLAS, LAPCK, Intel MKL\n",
    "library\n"
   ]
  },
  {
   "cell_type": "code",
   "execution_count": 7,
   "metadata": {
    "slideshow": {
     "slide_type": "subslide"
    }
   },
   "outputs": [
    {
     "name": "stdout",
     "output_type": "stream",
     "text": [
      "[[  1.00000000e+00   1.38777878e-17  -2.77555756e-17   2.77555756e-17]\n",
      " [ -2.22044605e-16   1.00000000e+00   5.55111512e-17  -2.77555756e-17]\n",
      " [  2.22044605e-16  -5.55111512e-17   1.00000000e+00   0.00000000e+00]\n",
      " [ -2.22044605e-16  -4.16333634e-17  -1.11022302e-16   1.00000000e+00]]\n"
     ]
    }
   ],
   "source": [
    "# inverse of  matrix\n",
    "X = np.random.randn(4, 4)\n",
    "X_inv = np.linalg.inv(X)\n",
    "print(X.dot(X_inv))\n"
   ]
  },
  {
   "cell_type": "code",
   "execution_count": null,
   "metadata": {
    "collapsed": true
   },
   "outputs": [],
   "source": []
  },
  {
   "cell_type": "code",
   "execution_count": 79,
   "metadata": {
    "slideshow": {
     "slide_type": "subslide"
    }
   },
   "outputs": [
    {
     "name": "stdout",
     "output_type": "stream",
     "text": [
      "(4, 4) (3,) (3, 3)\n"
     ]
    },
    {
     "data": {
      "text/plain": [
       "array([ 2.36661868,  1.23534815,  0.98348954])"
      ]
     },
     "execution_count": 79,
     "metadata": {},
     "output_type": "execute_result"
    }
   ],
   "source": [
    "# svd. singluar value decomposition\n",
    "a = np.random.randn(4,3)\n",
    "u, s, vh = np.linalg.svd(a, full_matrices=True)\n",
    "print(u.shape, s.shape, vh.shape)\n",
    "np.linalg.svd?"
   ]
  },
  {
   "cell_type": "code",
   "execution_count": 80,
   "metadata": {
    "slideshow": {
     "slide_type": "subslide"
    }
   },
   "outputs": [
    {
     "data": {
      "text/plain": [
       "True"
      ]
     },
     "execution_count": 80,
     "metadata": {},
     "output_type": "execute_result"
    }
   ],
   "source": [
    "# let check if factorization is  true\n",
    "np.allclose(a, np.dot(u[:,:3]*s, vh))"
   ]
  },
  {
   "cell_type": "markdown",
   "metadata": {
    "slideshow": {
     "slide_type": "slide"
    }
   },
   "source": [
    "## Pseudorandom Number Generation\n",
    "lots of function for drawing from normal, binmial, chisq, gamma, uniform distrubtion"
   ]
  },
  {
   "cell_type": "markdown",
   "metadata": {
    "slideshow": {
     "slide_type": "slide"
    }
   },
   "source": [
    "## Example random walk"
   ]
  },
  {
   "cell_type": "code",
   "execution_count": 19,
   "metadata": {
    "slideshow": {
     "slide_type": "subslide"
    }
   },
   "outputs": [
    {
     "name": "stdout",
     "output_type": "stream",
     "text": [
      "[0, 1, 0, -1, -2, -1, 0, 1, 0, -1, 0, 1, 2, 1, 0, -1, -2, -3, -2, -3, -2, -1, -2, -3, -4, -3, -4, -5, -4, -5, -6, -5, -6, -7, -6, -7, -8, -7, -8, -7, -6, -7, -8, -9, -8, -7, -8, -9, -10, -9, -10, -9, -10, -9, -10, -9, -10, -9, -10, -11, -12, -11, -12, -11, -10, -9, -10, -11, -12, -13, -14, -13, -12, -13, -12, -11, -10, -9, -8, -7, -8, -7, -6, -5, -6, -7, -6, -7, -6, -5, -4, -5, -6, -5, -6, -5, -4, -5, -4, -5, -6]\n"
     ]
    }
   ],
   "source": [
    "# let similulate random walk with qual probalbility of step 1 or -1 in pure python\n",
    "position = 0\n",
    "walk = [0]\n",
    "for i in range(100):\n",
    "    step = 1 if np.random.choice([True, False]) else -1\n",
    "    position += step\n",
    "    walk.append(position)\n",
    "print(walk)"
   ]
  },
  {
   "cell_type": "code",
   "execution_count": 29,
   "metadata": {
    "slideshow": {
     "slide_type": "subslide"
    }
   },
   "outputs": [
    {
     "data": {
      "text/plain": [
       "[<matplotlib.lines.Line2D at 0x110d46780>]"
      ]
     },
     "execution_count": 29,
     "metadata": {},
     "output_type": "execute_result"
    },
    {
     "data": {
      "image/png": "[encoded data removed]",
      "text/plain": [
       "<matplotlib.figure.Figure at 0x110a07630>"
      ]
     },
     "metadata": {},
     "output_type": "display_data"
    }
   ],
   "source": [
    "%matplotlib inline\n",
    "import matplotlib.pyplot as plt\n",
    "plt.plot(walk)"
   ]
  },
  {
   "cell_type": "code",
   "execution_count": null,
   "metadata": {
    "collapsed": true
   },
   "outputs": [],
   "source": []
  },
  {
   "cell_type": "code",
   "execution_count": 21,
   "metadata": {
    "slideshow": {
     "slide_type": "subslide"
    }
   },
   "outputs": [
    {
     "name": "stdout",
     "output_type": "stream",
     "text": [
      "[0, 1, 0, -1, -2, -1, 0, 1, 0, -1, 0, 1, 2, 1, 0, -1, -2, -3, -2, -3, -2, -1, -2, -3, -4, -3, -4, -5, -4, -5, -6, -5, -6, -7, -6, -7, -8, -7, -8, -7, -6, -7, -8, -9, -8, -7, -8, -9, -10, -9, -10, -9, -10, -9, -10, -9, -10, -9, -10, -11, -12, -11, -12, -11, -10, -9, -10, -11, -12, -13, -14, -13, -12, -13, -12, -11, -10, -9, -8, -7, -8, -7, -6, -5, -6, -7, -6, -7, -6, -5, -4, -5, -6, -5, -6, -5, -4, -5, -4, -5, -6]\n"
     ]
    }
   ],
   "source": [
    "#or using  numpy array we can do following\n",
    "ranndrom_draw = np.random.choice\n",
    "print(walk)\n"
   ]
  },
  {
   "cell_type": "code",
   "execution_count": 22,
   "metadata": {},
   "outputs": [
    {
     "name": "stdout",
     "output_type": "stream",
     "text": [
      "[0, 1, 0, -1, -2, -1, 0, 1, 0, -1, 0, 1, 2, 1, 0, -1, -2, -3, -2, -3, -2, -1, -2, -3, -4, -3, -4, -5, -4, -5, -6, -5, -6, -7, -6, -7, -8, -7, -8, -7, -6, -7, -8, -9, -8, -7, -8, -9, -10, -9, -10, -9, -10, -9, -10, -9, -10, -9, -10, -11, -12, -11, -12, -11, -10, -9, -10, -11, -12, -13, -14, -13, -12, -13, -12, -11, -10, -9, -8, -7, -8, -7, -6, -5, -6, -7, -6, -7, -6, -5, -4, -5, -6, -5, -6, -5, -4, -5, -4, -5, -6]\n"
     ]
    }
   ],
   "source": [
    "ranndrom_draw= np.random.choice\n",
    "print(walk)"
   ]
  },
  {
   "cell_type": "code",
   "execution_count": 23,
   "metadata": {
    "slideshow": {
     "slide_type": "subslide"
    }
   },
   "outputs": [
    {
     "name": "stdout",
     "output_type": "stream",
     "text": [
      "[ 1 -1 -1 -1 -1 -1  1  1  1  1 -1  1  1  1 -1 -1 -1  1  1 -1  1  1  1  1 -1\n",
      "  1  1  1 -1 -1  1 -1 -1 -1  1  1 -1  1  1 -1  1 -1 -1  1  1  1  1  1  1 -1\n",
      "  1  1 -1 -1  1  1  1  1  1  1 -1  1 -1  1  1 -1  1 -1  1 -1  1 -1 -1 -1  1\n",
      " -1  1  1 -1  1 -1  1 -1 -1 -1  1 -1  1  1 -1 -1 -1  1 -1  1 -1 -1 -1  1 -1]\n"
     ]
    }
   ],
   "source": [
    "random_walk= np.random.choice([1, -1], size = 100)\n",
    "print(random_walk)"
   ]
  },
  {
   "cell_type": "code",
   "execution_count": 24,
   "metadata": {
    "slideshow": {
     "slide_type": "subslide"
    }
   },
   "outputs": [
    {
     "data": {
      "text/plain": [
       "[<matplotlib.lines.Line2D at 0x110b6b4a8>]"
      ]
     },
     "execution_count": 24,
     "metadata": {},
     "output_type": "execute_result"
    },
    {
     "data": {
      "image/png": "[encoded data removed]",
      "text/plain": [
       "<matplotlib.figure.Figure at 0x110a97550>"
      ]
     },
     "metadata": {},
     "output_type": "display_data"
    }
   ],
   "source": [
    "walk = random_walk.cumsum()\n",
    "plt.plot(walk)"
   ]
  },
  {
   "cell_type": "code",
   "execution_count": 25,
   "metadata": {
    "slideshow": {
     "slide_type": "subslide"
    }
   },
   "outputs": [
    {
     "name": "stdout",
     "output_type": "stream",
     "text": [
      "[ 1  0 -1 -2 -3 -4 -3 -2 -1  0 -1  0  1  2  1  0 -1  0  1  0  1  2  3  4  3\n",
      "  4  5  6  5  4  5  4  3  2  3  4  3  4  5  4  5  4  3  4  5  6  7  8  9  8\n",
      "  9 10  9  8  9 10 11 12 13 14 13 14 13 14 15 14 15 14 15 14 15 14 13 12 13\n",
      " 12 13 14 13 14 13 14 13 12 11 12 11 12 13 12 11 10 11 10 11 10  9  8  9  8]\n",
      "\n",
      " The boolean/the checker\n",
      "[False False False False False False False False False False False False\n",
      " False False False False False False False False False False False False\n",
      " False False False False False False False False False False False False\n",
      " False False False False False False False False False False False False\n",
      " False False False False False False False False  True  True  True  True\n",
      "  True  True  True  True  True  True  True  True  True  True  True  True\n",
      "  True  True  True  True  True  True  True  True  True  True  True  True\n",
      "  True  True  True  True  True  True  True False  True False  True False\n",
      " False False False False]\n",
      "\n",
      " The existence of that point\n",
      "56\n"
     ]
    }
   ],
   "source": [
    "# can ask lot of interesting statistics, like first time crossed 10, ???\n",
    "\n",
    "walk = random_walk.cumsum()\n",
    "print(walk)\n",
    "print(\"\\n The boolean/the checker\")\n",
    "print(np.abs(walk > 10))\n",
    "print(\"\\n The existence of that point\")\n",
    "print(np.abs(walk > 10).argmax())\n",
    "# psn points 3/3"
   ]
  },
  {
   "cell_type": "code",
   "execution_count": 27,
   "metadata": {},
   "outputs": [
    {
     "name": "stdout",
     "output_type": "stream",
     "text": [
      "[ 1  0 -1 -2 -3 -4 -3 -2 -1  0 -1  0  1  2  1  0 -1  0  1  0  1  2  3  4  3\n",
      "  4  5  6  5  4  5  4  3  2  3  4  3  4  5  4  5  4  3  4  5  6  7  8  9  8\n",
      "  9 10  9  8  9 10 11 12 13 14 13 14 13 14 15 14 15 14 15 14 15 14 13 12 13\n",
      " 12 13 14 13 14 13 14 13 12 11 12 11 12 13 12 11 10 11 10 11 10  9  8  9  8]\n",
      "\n",
      " The boolean/the checker\n",
      "[False False False False False False False False False False False False\n",
      " False False False False False False False False False False False False\n",
      " False False False False False False False False False False False False\n",
      " False False False False False False False False False False False False\n",
      " False False False  True False False False  True False False False False\n",
      " False False False False False False False False False False False False\n",
      " False False False False False False False False False False False False\n",
      " False False False False False False False  True False  True False  True\n",
      " False False False False]\n",
      "\n",
      " The existence of that point\n",
      "51\n"
     ]
    }
   ],
   "source": [
    "# the first time arrives at 10?\n",
    "walk = random_walk.cumsum()\n",
    "print(walk)\n",
    "print(\"\\n The boolean/the checker\")\n",
    "print(np.abs(walk == 10))\n",
    "print(\"\\n The existence of that point\")\n",
    "print(np.abs(walk == 10).argmax())"
   ]
  },
  {
   "cell_type": "code",
   "execution_count": 28,
   "metadata": {},
   "outputs": [
    {
     "data": {
      "text/plain": [
       "[<matplotlib.lines.Line2D at 0x110c85d68>]"
      ]
     },
     "execution_count": 28,
     "metadata": {},
     "output_type": "execute_result"
    },
    {
     "data": {
      "image/png": "[encoded data removed]",
      "text/plain": [
       "<matplotlib.figure.Figure at 0x110b7fda0>"
      ]
     },
     "metadata": {},
     "output_type": "display_data"
    }
   ],
   "source": [
    "walk = random_walk.cumsum()\n",
    "plt.plot(walk)"
   ]
  },
  {
   "cell_type": "markdown",
   "metadata": {
    "slideshow": {
     "slide_type": "slide"
    }
   },
   "source": [
    "Also look into\n",
    "- Boradcasting in numpy\n",
    "- [Scipy Lecture Notes](https://www.scipy-lectures.org/)"
   ]
  }
 ],
 "metadata": {
  "celltoolbar": "Slideshow",
  "kernelspec": {
   "display_name": "Python 3",
   "language": "python",
   "name": "python3"
  },
  "language_info": {
   "codemirror_mode": {
    "name": "ipython",
    "version": 3
   },
   "file_extension": ".py",
   "mimetype": "text/x-python",
   "name": "python",
   "nbconvert_exporter": "python",
   "pygments_lexer": "ipython3",
   "version": "3.6.4"
  }
 },
 "nbformat": 4,
 "nbformat_minor": 2
}
